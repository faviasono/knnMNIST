{
 "cells": [
  {
   "cell_type": "code",
   "execution_count": 1,
   "metadata": {
    "colab": {},
    "colab_type": "code",
    "id": "bHDShlG_PikW"
   },
   "outputs": [],
   "source": [
    "import pandas as pd\n",
    "import numpy as np\n",
    "import matplotlib.pyplot as plt\n",
    "from scipy import stats\n",
    "from scipy.spatial import distance_matrix\n",
    "from scipy.spatial import distance\n",
    "import seaborn as sns\n",
    "import time"
   ]
  },
  {
   "cell_type": "code",
   "execution_count": 4,
   "metadata": {
    "colab": {},
    "colab_type": "code",
    "id": "T6Yr1UhjPqj-"
   },
   "outputs": [],
   "source": [
    "train = pd.read_csv('spyder_code/MNIST_train_small.csv')\n",
    "test = pd.read_csv('spyder_code/MNIST_test_small.csv')\n",
    "x_train = train.iloc[:,1:]\n",
    "y_train = train.iloc[:,0]\n",
    "\n",
    "x_test = test.iloc[:,1:].values\n",
    "y_test = test.iloc[:,0].values\n",
    "\n",
    "x_train_normalized= np.apply_along_axis(lambda x: 0.0 if x_train.values.max()== 0.0 else x/x_train.values.max() , 0, x_train.values)\n",
    "x_test_normalized= np.apply_along_axis(lambda x: 0.0 if x_test.max()== 0.0 else x/x_test.max() , 0, x_train)"
   ]
  },
  {
   "cell_type": "code",
   "execution_count": 5,
   "metadata": {},
   "outputs": [],
   "source": [
    "train_big = pd.read_csv('spyder_code/MNIST_train.csv')\n",
    "x_train_b = train_big.iloc[:,1:]\n",
    "y_train_b = train_big.iloc[:,0]"
   ]
  },
  {
   "cell_type": "code",
   "execution_count": 7,
   "metadata": {},
   "outputs": [],
   "source": [
    "from sklearn.neighbors import KNeighborsClassifier"
   ]
  },
  {
   "cell_type": "code",
   "execution_count": 9,
   "metadata": {},
   "outputs": [
    {
     "data": {
      "image/png": "[encoded data removed]",
      "text/plain": [
       "<Figure size 432x288 with 1 Axes>"
      ]
     },
     "metadata": {
      "needs_background": "light"
     },
     "output_type": "display_data"
    }
   ],
   "source": [
    "from sklearn.decomposition import PCA\n",
    "from sklearn.preprocessing import MinMaxScaler\n",
    "scaler = MinMaxScaler(feature_range=[0, 1])\n",
    "\n",
    "data_rescaled = scaler.fit_transform(x_train_b)\n",
    "\n",
    "pca = PCA().fit(data_rescaled)\n",
    "#Plotting the Cumulative Summation of the Explained Variance \n",
    "plt.figure()\n",
    "plt.plot(np.cumsum(pca.explained_variance_ratio_))\n",
    "plt.xlabel('Number of Components')\n",
    "plt.ylabel('Variance (%)') #for each component\n",
    "plt.title('MNIST dataset PCA')\n",
    "plt.ylim((.5,1))\n",
    "plt.xlim((0,100))\n",
    "plt.savefig('MNIST_PCA_less100pc.jpg')\n",
    "plt.show()"
   ]
  },
  {
   "cell_type": "code",
   "execution_count": 10,
   "metadata": {},
   "outputs": [],
   "source": [
    "from sklearn.model_selection import cross_val_score,KFold, LeaveOneOut"
   ]
  },
  {
   "cell_type": "code",
   "execution_count": 53,
   "metadata": {},
   "outputs": [],
   "source": [
    "mnist_pca = PCA(n_components=50) #90% of variability is captured by those PC\n",
    "mnist_pca.fit(x_train_b)\n",
    "components = mnist_pca.transform(x_train_b)\n"
   ]
  },
  {
   "cell_type": "code",
   "execution_count": 54,
   "metadata": {},
   "outputs": [],
   "source": [
    "loo = LeaveOneOut()\n",
    "n_splits = loo.get_n_splits(x_train_b,y_train_b)"
   ]
  },
  {
   "cell_type": "code",
   "execution_count": 56,
   "metadata": {},
   "outputs": [],
   "source": [
    "knn = KNeighborsClassifier(n_neighbors=1,p=11,n_jobs=-1).fit(components,y_train_b)"
   ]
  },
  {
   "cell_type": "code",
   "execution_count": 57,
   "metadata": {},
   "outputs": [],
   "source": [
    "kf = KFold(n_splits=n_splits,shuffle=True,random_state=1)\n",
    "cs = cross_val_score(knn,components,y_train_b,cv=kf,n_jobs=-1)"
   ]
  },
  {
   "cell_type": "code",
   "execution_count": 61,
   "metadata": {},
   "outputs": [
    {
     "data": {
      "text/plain": [
       "0.9705995099918332"
      ]
     },
     "execution_count": 61,
     "metadata": {},
     "output_type": "execute_result"
    }
   ],
   "source": [
    "np.mean(cs)"
   ]
  },
  {
   "cell_type": "code",
   "execution_count": 14,
   "metadata": {},
   "outputs": [],
   "source": [
    "mnist_pca = PCA(n_components=50) #90% of variability is captured by those PC\n",
    "mnist_pca.fit(x_train_big)\n",
    "components = mnist_pca.transform(x_train_big)\n",
    "\n",
    "#test = mnist_pca.transform(x_test)"
   ]
  },
  {
   "cell_type": "code",
   "execution_count": 13,
   "metadata": {},
   "outputs": [],
   "source": [
    "x_train_c = pd.DataFrame(np.ascontiguousarray(x_train.values), columns=x_train.columns)"
   ]
  },
  {
   "cell_type": "code",
   "execution_count": 10,
   "metadata": {
    "colab": {},
    "colab_type": "code",
    "id": "85W-vV5JJDnv"
   },
   "outputs": [],
   "source": [
    "# mode function\n",
    "def mode(array):\n",
    "    '''\n",
    "    In case of ties we are choosing the value of the nearest neighbor:\n",
    "    that is because .argmax() return the first item encountered in the array,\n",
    "    that will be by definition the nearest one\n",
    "    '''\n",
    "    val, cnts = np.unique(array, return_counts=True)\n",
    "    return val[cnts.argmax()], cnts.max()\n",
    "\n",
    "def manhattan_matrix(X1, X2, p=0):\n",
    "    return distance.cdist(X1, X2, 'cityblock')\n",
    "\n",
    "def chebyshev_matrix(X1, X2, p=0):\n",
    "    return distance.cdist(X1, X2, 'chebyshev')\n",
    "\n",
    "def mahalanobis_matrix(X1, X2, p=0):\n",
    "    return distance.cdist(X1, X2, 'mahalanobis', VI=None)"
   ]
  },
  {
   "cell_type": "code",
   "execution_count": null,
   "metadata": {},
   "outputs": [],
   "source": [
    "x_train.values.shape[0]"
   ]
  },
  {
   "cell_type": "code",
   "execution_count": null,
   "metadata": {},
   "outputs": [],
   "source": [
    "dist = np.zeros((x_train.values.shape[0],x_train.values.shape[0]),dtype='float')"
   ]
  },
  {
   "cell_type": "code",
   "execution_count": null,
   "metadata": {},
   "outputs": [],
   "source": [
    "x_train_big = pd.read_csv('MNIST_train.csv',dtype=np.double,).values"
   ]
  },
  {
   "cell_type": "code",
   "execution_count": 12,
   "metadata": {
    "colab": {},
    "colab_type": "code",
    "id": "CqldRDUUfyIA"
   },
   "outputs": [],
   "source": [
    "def imageFilter(data,method):\n",
    "    '''\n",
    "    Preprocessing:\n",
    "    data -> np.array image or datasets of images\n",
    "    method:\n",
    "        1. Gaussian:  a Gaussian kernel is used: Gaussian filtering is highly effective in removing Gaussian noise from the image.\n",
    "        2. Median: median of all the pixels under the kernel window and the central pixel \n",
    "        is replaced with this median value.\n",
    "    \n",
    "    '''\n",
    "    if method == 'gaussian':\n",
    "        return np.apply_along_axis(lambda img: cv2.GaussianBlur(img.astype(dtype=np.uint8).reshape(28,-1),(5,5),0).flatten(),1,data)\n",
    "    if method =='averaging':\n",
    "        kernel = np.ones((5,5),np.float32)/25\n",
    "        return np.apply_along_axis(lambda img: cv2.filter2D(img.astype(dtype=np.uint8).reshape(28,-1),-1,kernel).flatten(),1,data)"
   ]
  },
  {
   "cell_type": "code",
   "execution_count": 13,
   "metadata": {},
   "outputs": [],
   "source": [
    "# mathematical functions\n",
    "def mode(array):\n",
    "    '''\n",
    "    In case of ties we are choosing the value of the nearest neighbor:\n",
    "    that is because .argmax() return the first item encountered in the array,\n",
    "    that will be by definition the nearest one\n",
    "    '''\n",
    "    val, cnts = np.unique(array, return_counts=True)\n",
    "    return val[cnts.argmax()], cnts.max()\n",
    "\n",
    "def manhattan_matrix(X1, X2, p=0):\n",
    "    return distance.cdist(X1, X2, 'cityblock')\n",
    "\n",
    "def chebyshev_matrix(X1, X2, p=0):\n",
    "    return distance.cdist(X1, X2, 'chebyshev')\n",
    "\n",
    "def mahalanobis_matrix(X1, X2, p=0):\n",
    "    return distance.cdist(X1, X2, 'mahalanobis', VI=None)\n",
    "\n",
    "def cosine_dist(X1, X2, p=0):\n",
    "    mat = np.dot(np.array(X2).T,np.array(X1))\n",
    "    return 2 - 2*mat.T\n",
    "\n",
    "def minkowski_dist(v, w, p = 2):\n",
    "    D = np.abs(np.subtract(w, v))\n",
    "    Dp = np.power(D, p)\n",
    "    distance_vals = np.sum(Dp, axis = 0)\n",
    "    distance_vals_p = np.power(distance_vals, 1 / p)\n",
    "    return distance_vals_p"
   ]
  },
  {
   "cell_type": "code",
   "execution_count": 14,
   "metadata": {
    "colab": {},
    "colab_type": "code",
    "id": "T-Fj8w66cKFp"
   },
   "outputs": [],
   "source": [
    "#knn implementation\n",
    "class KNN():\n",
    "\n",
    "    # Initialization and printing functions\n",
    "    def __init__(self,  p=2, distance='minkowski', distance_f=minkowski_dist):\n",
    "        self.p = p\n",
    "        self.distance_f = distance_f\n",
    "        if(distance=='manhattan'):\n",
    "            self.distance = 'manhattan'\n",
    "            self.distance_matrix = manhattan_matrix\n",
    "        elif(distance=='chebyshev'):\n",
    "            self.distance = 'chebyshev'\n",
    "            self.distance_matrix = chebyshev_matrix\n",
    "        else:\n",
    "            self.distance = 'minkowski'\n",
    "            self.distance_matrix = distance_matrix\n",
    "        pass\n",
    "\n",
    "    # fit --> create distance matrix\n",
    "    def fit(self, X, y, k_max, fast=False, p_array=[2] ):\n",
    "        \"\"\"\n",
    "        Fit on training data\n",
    "\n",
    "        X: x_train dataset\n",
    "        Y: y_train\n",
    "        fast: skip the computation of the pairwise distance matrix\n",
    "        \"\"\"\n",
    "        self.x_train = X\n",
    "        self.y_train = y\n",
    "        self.n_training = X.shape[0]\n",
    "        self.classes = np.unique(y)\n",
    "        if not fast:\n",
    "            \n",
    "            #self.dist_mtx = self.distance_matrix(X, X, p=self.p)\n",
    "            self.k_neigh_mtx = self.create_k_matrix(k_max)\n",
    "            \n",
    "            #only for paolo's version\n",
    "            self.k_neigh_mtx = self.k_neigh_mtx.reshape(self.k_neigh_mtx.shape[0], self.k_neigh_mtx.shape[1])\n",
    "\n",
    "        pass\n",
    "\n",
    "    def __str__(self):\n",
    "        return 'Knn with distance parameter p = {}'.format(self.p)\n",
    "\n",
    "    def __repr__(self):\n",
    "        return self.__str__()\n",
    "\n",
    "    def loss(self, y1, y2):\n",
    "        return y1 != y2\n",
    "\n",
    "    def create_k_matrix(self, k):\n",
    "        '''\n",
    "        Reduce the matrix for the cross validation by considering only k smallest values\n",
    "        k: max value for the neighbor\n",
    "\n",
    "        '''\n",
    "        \n",
    "        return np.apply_along_axis(lambda x: np.argsort(self.distance_matrix(self.x_train.values, [x], p=self.p), axis=0)[:k],1, self.x_train.values)\n",
    "        \n",
    "\n",
    "    def cross_validate(self, k, n_fold='loocv'):\n",
    "        \"\"\"\n",
    "        k_max : number of maximum to consider\n",
    "        n_fold : fold of cross validation.\n",
    "          if n_fold='loocv' it will just use the leave-one-out cross validation where n_fold= # training samples\n",
    "        \"\"\"\n",
    "\n",
    "        if n_fold == 'loocv':\n",
    "            loss_ipk = [self.predict_train(i, k) for i in range(self.n_training)]\n",
    "            loss_cv = np.mean(loss_ipk, axis=0)\n",
    "        return loss_cv\n",
    "    \n",
    "\n",
    "    def predict_train(self, i, k):\n",
    "        \n",
    "        y_pred = mode(self.y_train[self.k_neigh_mtx[i, 1:(k+1)]])[0]        \n",
    "        \n",
    "        return self.loss(y_pred, self.y_train[i])\n",
    "\n",
    "    def predict(self, x_test, k_array):\n",
    "        \"\"\"\n",
    "        Predict class for the given observation\n",
    "        x_test: new observations to predict\n",
    "        k_array: array of k number of neighbors to consider\n",
    "        \"\"\"\n",
    "        #NOT COMPUTING ENTIRE MATRIX\n",
    "        kmax_neigh = np.apply_along_axis(\n",
    "            lambda x: np.argsort(self.distance_matrix(self.x_train.values, [x],  p=self.p), axis=0)[:np.max(k_array)],1, x_test)\n",
    "        kmax_neigh = np.squeeze(kmax_neigh, axis=2)\n",
    "\n",
    "        return [np.apply_along_axis(lambda neigh: mode(self.y_train[neigh[:k]])[0], 1, kmax_neigh) for k in k_array]\n",
    "                \n",
    "        \n",
    "    def compute_loss(self, x_test, y_test, k_array):\n",
    "        \"\"\"\n",
    "        Score function: predict the values and compare to the real values given\n",
    "        x_test: input value to predict\n",
    "        y_test: real value of output\n",
    "        k_array: array of k number of neihbors to consider\n",
    "        \"\"\"\n",
    "        predictions = self.predict(x_test, k_array)\n",
    "        losses = [self.loss(predictions[kidx],y_test).sum()/y_test.shape[0] for kidx, k in enumerate(k_array)]\n",
    "        return dict(zip(k_array, losses))"
   ]
  },
  {
   "cell_type": "code",
   "execution_count": null,
   "metadata": {},
   "outputs": [],
   "source": []
  },
  {
   "cell_type": "code",
   "execution_count": null,
   "metadata": {
    "colab": {},
    "colab_type": "code",
    "id": "yOnQQowZXpJm"
   },
   "outputs": [],
   "source": [
    "#(a)\n",
    "knn_a = KNN()\n",
    "knn_a.fit(x_train,y_train, k_max=20)\n",
    "train_loss = knn_a.score(x_train, y_train, np.arange(1,21))\n",
    "test_loss = knn_a.score(x_test, y_test, np.aran2ge(1,21))\n",
    "\n",
    "print(\"train loss:\", np.array([train_loss[k] for k in train_loss]).mean())\n",
    "print(\"test loss:\", np.array([test_loss[k] for k in test_loss]).mean())"
   ]
  },
  {
   "cell_type": "code",
   "execution_count": null,
   "metadata": {
    "colab": {
     "base_uri": "https://localhost:8080/",
     "height": 295
    },
    "colab_type": "code",
    "id": "AjPXzmMNxqBt",
    "outputId": "0d4a1d74-6ed0-4c44-ff46-813fdbeee198"
   },
   "outputs": [],
   "source": [
    "#plot train_score and test_score\n",
    "plt.xlabel('K')\n",
    "plt.ylabel('Empirical loss')\n",
    "plt.plot(*zip(*sorted(train_loss.items())), label=\"Train set\")\n",
    "plt.plot(*zip(*sorted(test_loss.items())), label=\"Test set\")\n",
    "plt.legend()\n",
    "plt.show()"
   ]
  },
  {
   "cell_type": "code",
   "execution_count": null,
   "metadata": {},
   "outputs": [],
   "source": []
  },
  {
   "cell_type": "code",
   "execution_count": null,
   "metadata": {
    "colab": {},
    "colab_type": "code",
    "id": "xUblRI0c0zsD"
   },
   "outputs": [],
   "source": [
    "#(b)\n",
    "knn_b = KNN()\n",
    "knn_b.fit(x_train,y_train, k_max=20) \n",
    "k_array = np.arange(1,21)\n",
    "train_loss = dict(zip(k_array, [knn_b.cross_validate(k) for k in k_array]))\n",
    "test_loss = knn_b.compute_loss(x_test, y_test, np.arange(1,21)) # We don't need to recompute it (computed in (a))"
   ]
  },
  {
   "cell_type": "code",
   "execution_count": null,
   "metadata": {},
   "outputs": [],
   "source": [
    "test_loss = knn_b.compute_loss(x_test, y_test, np.arange(1,21)) # We don't need to recompute it (computed in (a))"
   ]
  },
  {
   "cell_type": "code",
   "execution_count": null,
   "metadata": {
    "colab": {},
    "colab_type": "code",
    "id": "K4kPUWkX0FDV",
    "outputId": "6a8713d8-61b8-4f84-f2e4-a6f8f891e471"
   },
   "outputs": [],
   "source": [
    "print(\"train loss:\", np.array([train_loss[k] for k in train_loss]).mean())\n",
    "print(\"test loss:\", np.array([test_loss[k] for k in test_loss]).mean())"
   ]
  },
  {
   "cell_type": "code",
   "execution_count": null,
   "metadata": {
    "colab": {
     "base_uri": "https://localhost:8080/",
     "height": 227
    },
    "colab_type": "code",
    "id": "Beihs5O16z9L",
    "outputId": "4313b9e2-a1d3-41f2-967c-a7deed3ef852"
   },
   "outputs": [],
   "source": [
    "#plot train_score_crossVal and test_score\n",
    "plt.xlabel('K')\n",
    "plt.ylabel('Empirical loss')\n",
    "plt.plot(*zip(*sorted(train_loss.items())), label=\"Train set\")\n",
    "plt.plot(*zip(*sorted(test_loss.items())), label=\"Test set\")\n",
    "plt.legend()\n",
    "plt.show()"
   ]
  },
  {
   "cell_type": "code",
   "execution_count": null,
   "metadata": {
    "colab": {},
    "colab_type": "code",
    "id": "e-BAr9AAdert"
   },
   "outputs": [],
   "source": [
    "#(c)\n",
    "crossValScore = []\n",
    "for p in np.arange(1,16):\n",
    "    knn_c = KNN(p=p)\n",
    "    knn_c.fit(x_train,y_train, k_max=20)\n",
    "    k_array = np.arange(1,21)\n",
    "    crossValScore.append(dict(zip(k_array, [knn_c.cross_validate(k) for k in k_array])))\n",
    "crossValScore = pd.DataFrame(crossValScore)\n",
    "    "
   ]
  },
  {
   "cell_type": "code",
   "execution_count": null,
   "metadata": {
    "colab": {},
    "colab_type": "code",
    "id": "rMGlC1Q30FDh",
    "outputId": "6c0f0d17-2136-4d37-fbff-af4604c4ae20"
   },
   "outputs": [],
   "source": [
    "fig, ax = plt.subplots(figsize=(12,12))  \n",
    "sns.heatmap(crossValScore, ax=ax, xticklabels=np.arange(1,21), yticklabels=np.arange(1,16))"
   ]
  },
  {
   "cell_type": "code",
   "execution_count": null,
   "metadata": {
    "colab": {},
    "colab_type": "code",
    "id": "_ZVkHnMiJcow"
   },
   "outputs": [],
   "source": [
    "knn_d_euclidean = KNN()\n",
    "knn_d_euclidean.fit(x_train, y_train, k_max=20)\n",
    "k_array = np.arange(2,21)\n",
    "crossValScore_euclidean = dict(zip(k_array, [knn_d_euclidean.cross_validate(k) for k in k_array]))\n",
    "\n",
    "knn_d_manhattan = KNN(distance='manhattan')\n",
    "knn_d_manhattan.fit(x_train, y_train, k_max=20)\n",
    "k_array = np.arange(2,21)\n",
    "crossValScore_manhattan = dict(zip(k_array, [knn_d_manhattan.cross_validate(k) for k in k_array]))\n",
    "\n",
    "knn_d_chebyshev = KNN(distance='chebyshev')\n",
    "knn_d_chebyshev.fit(x_train, y_train, k_max=20)\n",
    "k_array = np.arange(2,21)\n",
    "crossValScore_chebyshev = dict(zip(k_array, [knn_d_chebyshev.cross_validate(k) for k in k_array]))\n"
   ]
  },
  {
   "cell_type": "code",
   "execution_count": null,
   "metadata": {
    "colab": {},
    "colab_type": "code",
    "id": "iJdMFJkxRvmR"
   },
   "outputs": [],
   "source": [
    "df = pd.DataFrame([crossValScore_euclidean, crossValScore_manhattan, crossValScore_chebyshev])\n",
    "\n",
    "# Draw a heatmap with the numeric values in each cell\n",
    "f, ax = plt.subplots(figsize=(13, 4))\n",
    "sns.heatmap(df, annot=True, linewidths=.5, ax=ax,\n",
    "            yticklabels=['euclidean', 'manhattan', 'chebyshev'])"
   ]
  },
  {
   "cell_type": "code",
   "execution_count": null,
   "metadata": {
    "colab": {},
    "colab_type": "code",
    "id": "ExiuOUI0oCtI"
   },
   "outputs": [],
   "source": []
  },
  {
   "cell_type": "markdown",
   "metadata": {
    "colab_type": "text",
    "id": "CtdWKjDsoC7i"
   },
   "source": [
    "## Preprocessing with different filters\n"
   ]
  },
  {
   "cell_type": "code",
   "execution_count": 24,
   "metadata": {},
   "outputs": [],
   "source": [
    "import cv2"
   ]
  },
  {
   "cell_type": "code",
   "execution_count": 25,
   "metadata": {
    "colab": {
     "base_uri": "https://localhost:8080/",
     "height": 240
    },
    "colab_type": "code",
    "id": "rk8vXewcoH5T",
    "outputId": "a374a37b-3895-47c7-93e9-f4b6df1569a2"
   },
   "outputs": [],
   "source": [
    "\n",
    "train_gaussian = pd.DataFrame(imageFilter(x_train_n,'gaussian'))\n",
    "train_averaging = pd.DataFrame(imageFilter(x_train_n,'averaging'))\n"
   ]
  },
  {
   "cell_type": "code",
   "execution_count": 15,
   "metadata": {},
   "outputs": [
    {
     "name": "stdout",
     "output_type": "stream",
     "text": [
      "Normalized data: 820.6088969707489\n",
      "Not normalized  data: 166.13432693481445\n"
     ]
    }
   ],
   "source": [
    "knn = KNN(p=11)\n",
    "k_array = np.arange(1,21)\n",
    "\n",
    "x_train_n = pd.DataFrame(MinMaxScaler().fit_transform(x_train))\n",
    "\n",
    "start = time.time()\n",
    "knn.fit(x_train_n, y_train, k_max=20)\n",
    "norm_score = dict(zip(k_array, [knn.cross_validate(k) for k in k_array]))\n",
    "print('Normalized data:',time.time()-start)\n",
    "\n",
    "\n",
    "start = time.time()\n",
    "knn.fit(x_train, y_train, k_max=20)\n",
    "score = dict(zip(k_array, [knn.cross_validate(k) for k in k_array]))\n",
    "print('Not normalized  data:',time.time()-start)"
   ]
  },
  {
   "cell_type": "code",
   "execution_count": 21,
   "metadata": {},
   "outputs": [
    {
     "data": {
      "image/png": "[encoded data removed]",
      "text/plain": [
       "<Figure size 432x288 with 2 Axes>"
      ]
     },
     "metadata": {
      "needs_background": "light"
     },
     "output_type": "display_data"
    }
   ],
   "source": [
    "\n",
    "fig,(ax1,ax2) = plt.subplots(nrows=1,ncols=2,sharey=True)\n",
    "ax1.set_title('Scaled data in range [0,1]')\n",
    "ax1.plot(*zip(*sorted(norm_score.items())), label=\"Normalization\")\n",
    "\n",
    "ax2.set_title('Not scaled data')\n",
    "ax2.plot(*zip(*sorted(score.items())), label=\"default data values\")\n",
    "\n",
    "plt.xlabel('K values')\n",
    "plt.ylabel('Loss')\n",
    "fig.suptitle('Scaled vs Not scaled data ')\n",
    "plt.savefig('scaledvsnot.jpg')\n",
    "plt.show()"
   ]
  },
  {
   "cell_type": "code",
   "execution_count": 138,
   "metadata": {
    "colab": {},
    "colab_type": "code",
    "id": "bKlN9yjpoRph"
   },
   "outputs": [
    {
     "name": "stdout",
     "output_type": "stream",
     "text": [
      "GaussianBlurring preprocessing: 116.57270216941833\n",
      "Averaging kernel preprocessing: 127.65520691871643\n",
      "No preprocessing: 152.90850019454956\n"
     ]
    }
   ],
   "source": [
    "knn = KNN(p=11)\n",
    "k_array = np.arange(2,21)\n",
    "\n",
    "start = time.time()\n",
    "knn.fit(train_gaussian, y_train, k_max=20)\n",
    "score_gaussian = dict(zip(k_array, [knn.cross_validate(k) for k in k_array]))\n",
    "print('GaussianBlurring preprocessing:',time.time()-start)\n",
    "\n",
    "\n",
    "start = time.time()\n",
    "knn.fit(train_averaging, y_train, k_max=20)\n",
    "score_median = dict(zip(k_array, [knn.cross_validate(k) for k in k_array]))\n",
    "print('Averaging kernel preprocessing:',time.time()-start)\n",
    "\n",
    "start = time.time()\n",
    "knn.fit(x_train, y_train, k_max=20)\n",
    "score_normal = dict(zip(k_array, [knn.cross_validate(k) for k in k_array]))\n",
    "print('No preprocessing:',time.time()-start)\n"
   ]
  },
  {
   "cell_type": "markdown",
   "metadata": {},
   "source": [
    "from skimage.color import rgb2gray\n",
    "img = x_train.iloc[0].to_numpy().reshape(28,-1)\n",
    "\n",
    "\n",
    "img =  img[:,:,np.newaxis]\n",
    "img.reshape(28,28,3)"
   ]
  },
  {
   "cell_type": "code",
   "execution_count": 58,
   "metadata": {},
   "outputs": [
    {
     "data": {
      "text/plain": [
       "(28, 28, 1)"
      ]
     },
     "execution_count": 58,
     "metadata": {},
     "output_type": "execute_result"
    }
   ],
   "source": [
    "from skimage.color import rgb2gray\n",
    "img = x_train.iloc[0].to_numpy().reshape(28,-1)\n",
    "#\n",
    "np.atleast_3d(img).shape\n"
   ]
  },
  {
   "cell_type": "code",
   "execution_count": 129,
   "metadata": {},
   "outputs": [],
   "source": [
    "from sklearn.preprocessing import Normalizer"
   ]
  },
  {
   "cell_type": "code",
   "execution_count": 140,
   "metadata": {},
   "outputs": [
    {
     "data": {
      "text/plain": [
       "{2: 0.8899633211070357,\n",
       " 3: 0.8899633211070357,\n",
       " 4: 0.8936312104034678,\n",
       " 5: 0.8936312104034678,\n",
       " 6: 0.8936312104034678,\n",
       " 7: 0.8936312104034678,\n",
       " 8: 0.8899633211070357,\n",
       " 9: 0.8899633211070357,\n",
       " 10: 0.8899633211070357,\n",
       " 11: 0.8826275425141714,\n",
       " 12: 0.8922974324774925,\n",
       " 13: 0.8922974324774925,\n",
       " 14: 0.8922974324774925,\n",
       " 15: 0.8936312104034678,\n",
       " 16: 0.8936312104034678,\n",
       " 17: 0.8936312104034678,\n",
       " 18: 0.8936312104034678,\n",
       " 19: 0.8936312104034678,\n",
       " 20: 0.8936312104034678}"
      ]
     },
     "execution_count": 140,
     "metadata": {},
     "output_type": "execute_result"
    }
   ],
   "source": [
    "score_gaussian"
   ]
  },
  {
   "cell_type": "code",
   "execution_count": 96,
   "metadata": {},
   "outputs": [
    {
     "data": {
      "text/plain": [
       "6"
      ]
     },
     "execution_count": 96,
     "metadata": {},
     "output_type": "execute_result"
    }
   ],
   "source": [
    "x_train[y_train == 8].index[0]"
   ]
  },
  {
   "cell_type": "code",
   "execution_count": 110,
   "metadata": {
    "colab": {},
    "colab_type": "code",
    "id": "S-R36q54w1ce"
   },
   "outputs": [
    {
     "data": {
      "image/png": "[encoded data removed]",
      "text/plain": [
       "<Figure size 1440x504 with 3 Axes>"
      ]
     },
     "metadata": {
      "needs_background": "light"
     },
     "output_type": "display_data"
    }
   ],
   "source": [
    "#find index where value is equal to 8\n",
    "idx_img = x_train[y_train == 8].index[0]\n",
    "\n",
    "fig, (ax1,ax2,ax3) = plt.subplots(nrows=1,ncols=3,sharex=True,sharey=True,figsize=(20,7),squeeze=True)\n",
    "\n",
    "ax1.set_title('No preprocessing')\n",
    "ax1.imshow(x_train.iloc[6].to_numpy().reshape(28,-1));\n",
    "\n",
    "\n",
    "ax2.set_title('Gaussian Blurring')\n",
    "ax2.imshow(train_gaussian.iloc[6].to_numpy().reshape(28,-1));\n",
    "\n",
    "ax3.set_title('Averaging Kernel')\n",
    "ax3.imshow(train_averaging.iloc[6].to_numpy().reshape(28,-1));\n",
    "\n",
    "fig.suptitle('Image with different preprocessing techniques')\n",
    "\n",
    "plt.savefig('print_number_prepr.jpg')\n",
    "plt.show()\n",
    "\n",
    "\n"
   ]
  },
  {
   "cell_type": "markdown",
   "metadata": {
    "colab_type": "text",
    "id": "olJ6nSuNw1wk"
   },
   "source": [
    "PCA\n"
   ]
  },
  {
   "cell_type": "code",
   "execution_count": null,
   "metadata": {
    "colab": {},
    "colab_type": "code",
    "id": "vHauSzRw0T-t"
   },
   "outputs": [],
   "source": [
    "from sklearn.decomposition import PCA\n",
    "from sklearn.preprocessing import MinMaxScaler\n",
    "scaler = MinMaxScaler(feature_range=[0, 1])\n",
    "data_rescaled = scaler.fit_transform(x_train)\n",
    "\n",
    "pca = PCA().fit(data_rescaled)\n",
    "#Plotting the Cumulative Summation of the Explained Variance \n",
    "plt.figure()\n",
    "plt.plot(np.cumsum(pca.explained_variance_ratio_))\n",
    "plt.xlabel('Number of Components')\n",
    "plt.ylabel('Variance (%)') #for each component\n",
    "plt.title('Pulsar Dataset Explained Variance')\n",
    "plt.ylim((0.9,1))\n",
    "plt.show()\n",
    "\n",
    "##--> n = 200/400 components express 95/99 % of the variance => 300 are chosen"
   ]
  },
  {
   "cell_type": "code",
   "execution_count": null,
   "metadata": {
    "colab": {},
    "colab_type": "code",
    "id": "qpsAZs3xw3Si"
   },
   "outputs": [],
   "source": [
    "\n",
    "mnist_pca = PCA(n_components=0.90) #90% of variability is captured by those PC\n",
    "mnist_pca.fit(x_train)\n",
    "components = mnist_pca.transform(x_train)\n",
    "\n",
    "test = mnist_pca.transform(x_test)"
   ]
  },
  {
   "cell_type": "code",
   "execution_count": null,
   "metadata": {
    "colab": {},
    "colab_type": "code",
    "id": "1SyNnG9fw5Gz"
   },
   "outputs": [],
   "source": [
    "knn_pca = KNN()\n",
    "\n",
    "start = time.time()\n",
    "knn_pca.fit(components,y_train,k_max=20)\n",
    "print(time.time()-start)\n",
    "\n",
    "train_score = knn_pca.score(components, y_train, np.arange(1,21))\n",
    "print(\"train score:\", np.array([train_score[k] for k in train_score]).max())\n",
    "\n",
    "test_score = knn_pca.score(test, y_test, np.arange(1,21))\n",
    "print(\"test score:\", np.array([test_score[k] for k in test_score]).max())\n"
   ]
  },
  {
   "cell_type": "code",
   "execution_count": null,
   "metadata": {
    "colab": {},
    "colab_type": "code",
    "id": "_sQPafTFxCsf"
   },
   "outputs": [],
   "source": [
    "projected = mnist_pca.inverse_transform(components)\n",
    "f, (ax1, ax2) = plt.subplots(1, 2, sharey=True)\n",
    "ax1.imshow(projected[0,:].reshape(28,-1))\n",
    "ax1.set_title('PCA transformation')\n",
    "ax2.imshow(x_train.values[0,:].reshape(28,-1))\n",
    "ax2.set_title('Original Image')"
   ]
  }
 ],
 "metadata": {
  "colab": {
   "collapsed_sections": [],
   "machine_shape": "hm",
   "name": "SLT_assignment_part1.ipynb",
   "provenance": []
  },
  "kernelspec": {
   "display_name": "Python 3",
   "language": "python",
   "name": "python3"
  },
  "language_info": {
   "codemirror_mode": {
    "name": "ipython",
    "version": 3
   },
   "file_extension": ".py",
   "mimetype": "text/x-python",
   "name": "python",
   "nbconvert_exporter": "python",
   "pygments_lexer": "ipython3",
   "version": "3.8.3"
  }
 },
 "nbformat": 4,
 "nbformat_minor": 1
}
