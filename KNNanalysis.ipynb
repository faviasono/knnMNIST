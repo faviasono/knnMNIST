{
 "cells": [
  {
   "cell_type": "code",
   "execution_count": 1,
   "metadata": {
    "colab": {},
    "colab_type": "code",
    "id": "bHDShlG_PikW"
   },
   "outputs": [],
   "source": [
    "import pandas as pd\n",
    "import numpy as np\n",
    "import matplotlib.pyplot as plt\n",
    "from scipy import stats\n",
    "from scipy.spatial import distance_matrix\n",
    "from scipy.spatial import distance\n",
    "import seaborn as sns\n",
    "import time"
   ]
  },
  {
   "cell_type": "code",
   "execution_count": 4,
   "metadata": {
    "colab": {},
    "colab_type": "code",
    "id": "T6Yr1UhjPqj-"
   },
   "outputs": [],
   "source": [
    "train = pd.read_csv('spyder_code/MNIST_train_small.csv')\n",
    "test = pd.read_csv('spyder_code/MNIST_test_small.csv')\n",
    "x_train = train.iloc[:,1:]\n",
    "y_train = train.iloc[:,0]\n",
    "\n",
    "x_test = test.iloc[:,1:].values\n",
    "y_test = test.iloc[:,0].values\n",
    "\n",
    "x_train_normalized= np.apply_along_axis(lambda x: 0.0 if x_train.values.max()== 0.0 else x/x_train.values.max() , 0, x_train.values)\n",
    "x_test_normalized= np.apply_along_axis(lambda x: 0.0 if x_test.max()== 0.0 else x/x_test.max() , 0, x_train)"
   ]
  },
  {
   "cell_type": "code",
   "execution_count": 5,
   "metadata": {},
   "outputs": [],
   "source": [
    "train_big = pd.read_csv('spyder_code/MNIST_train.csv')\n",
    "x_train_b = train_big.iloc[:,1:]\n",
    "y_train_b = train_big.iloc[:,0]"
   ]
  },
  {
   "cell_type": "code",
   "execution_count": 7,
   "metadata": {},
   "outputs": [],
   "source": [
    "from sklearn.neighbors import KNeighborsClassifier"
   ]
  },
  {
   "cell_type": "code",
   "execution_count": null,
   "metadata": {},
   "outputs": [],
   "source": []
  },
  {
   "cell_type": "code",
   "execution_count": 9,
   "metadata": {},
   "outputs": [
    {
     "data": {
      "image/png": "[encoded data removed]",
      "text/plain": [
       "<Figure size 432x288 with 1 Axes>"
      ]
     },
     "metadata": {
      "needs_background": "light"
     },
     "output_type": "display_data"
    }
   ],
   "source": [
    "from sklearn.decomposition import PCA\n",
    "from sklearn.preprocessing import MinMaxScaler\n",
    "scaler = MinMaxScaler(feature_range=[0, 1])\n",
    "\n",
    "data_rescaled = scaler.fit_transform(x_train_b)\n",
    "\n",
    "pca = PCA().fit(data_rescaled)\n",
    "#Plotting the Cumulative Summation of the Explained Variance \n",
    "plt.figure()\n",
    "plt.plot(np.cumsum(pca.explained_variance_ratio_))\n",
    "plt.xlabel('Number of Components')\n",
    "plt.ylabel('Variance (%)') #for each component\n",
    "plt.title('MNIST dataset PCA')\n",
    "plt.ylim((.5,1))\n",
    "plt.xlim((0,100))\n",
    "plt.savefig('MNIST_PCA_less100pc.jpg')\n",
    "plt.show()"
   ]
  },
  {
   "cell_type": "code",
   "execution_count": 10,
   "metadata": {},
   "outputs": [],
   "source": [
    "from sklearn.model_selection import cross_val_score,KFold, LeaveOneOut"
   ]
  },
  {
   "cell_type": "code",
   "execution_count": 53,
   "metadata": {},
   "outputs": [],
   "source": [
    "mnist_pca = PCA(n_components=50) #90% of variability is captured by those PC\n",
    "mnist_pca.fit(x_train_b)\n",
    "components = mnist_pca.transform(x_train_b)\n"
   ]
  },
  {
   "cell_type": "code",
   "execution_count": 54,
   "metadata": {},
   "outputs": [],
   "source": [
    "loo = LeaveOneOut()\n",
    "n_splits = loo.get_n_splits(x_train_b,y_train_b)"
   ]
  },
  {
   "cell_type": "code",
   "execution_count": 56,
   "metadata": {},
   "outputs": [],
   "source": [
    "knn = KNeighborsClassifier(n_neighbors=1,p=11,n_jobs=-1).fit(components,y_train_b)"
   ]
  },
  {
   "cell_type": "code",
   "execution_count": 57,
   "metadata": {},
   "outputs": [],
   "source": [
    "kf = KFold(n_splits=n_splits,shuffle=True,random_state=1)\n",
    "cs = cross_val_score(knn,components,y_train_b,cv=kf,n_jobs=-1)"
   ]
  },
  {
   "cell_type": "code",
   "execution_count": 61,
   "metadata": {},
   "outputs": [
    {
     "data": {
      "text/plain": [
       "0.9705995099918332"
      ]
     },
     "execution_count": 61,
     "metadata": {},
     "output_type": "execute_result"
    }
   ],
   "source": [
    "np.mean(cs)"
   ]
  },
  {
   "cell_type": "code",
   "execution_count": null,
   "metadata": {},
   "outputs": [],
   "source": []
  },
  {
   "cell_type": "code",
   "execution_count": 14,
   "metadata": {},
   "outputs": [],
   "source": [
    "\n",
    "mnist_pca = PCA(n_components=50) #90% of variability is captured by those PC\n",
    "mnist_pca.fit(x_train_big)\n",
    "components = mnist_pca.transform(x_train_big)\n",
    "\n",
    "#test = mnist_pca.transform(x_test)"
   ]
  },
  {
   "cell_type": "code",
   "execution_count": 15,
   "metadata": {},
   "outputs": [
    {
     "data": {
      "text/plain": [
       "(59999, 50)"
      ]
     },
     "execution_count": 15,
     "metadata": {},
     "output_type": "execute_result"
    }
   ],
   "source": [
    "\n"
   ]
  },
  {
   "cell_type": "code",
   "execution_count": 13,
   "metadata": {},
   "outputs": [],
   "source": [
    "x_train_c = pd.DataFrame(np.ascontiguousarray(x_train.values), columns=x_train.columns)"
   ]
  },
  {
   "cell_type": "code",
   "execution_count": 10,
   "metadata": {
    "colab": {},
    "colab_type": "code",
    "id": "85W-vV5JJDnv"
   },
   "outputs": [],
   "source": [
    "# mode function\n",
    "def mode(array):\n",
    "    '''\n",
    "    In case of ties we are choosing the value of the nearest neighbor:\n",
    "    that is because .argmax() return the first item encountered in the array,\n",
    "    that will be by definition the nearest one\n",
    "    '''\n",
    "    val, cnts = np.unique(array, return_counts=True)\n",
    "    return val[cnts.argmax()], cnts.max()\n",
    "\n",
    "def manhattan_matrix(X1, X2, p=0):\n",
    "    return distance.cdist(X1, X2, 'cityblock')\n",
    "\n",
    "def chebyshev_matrix(X1, X2, p=0):\n",
    "    return distance.cdist(X1, X2, 'chebyshev')\n",
    "\n",
    "def mahalanobis_matrix(X1, X2, p=0):\n",
    "    return distance.cdist(X1, X2, 'mahalanobis', VI=None)"
   ]
  },
  {
   "cell_type": "code",
   "execution_count": null,
   "metadata": {},
   "outputs": [],
   "source": [
    "x_train.values.shape[0]"
   ]
  },
  {
   "cell_type": "code",
   "execution_count": null,
   "metadata": {},
   "outputs": [],
   "source": [
    "dist = np.zeros((x_train.values.shape[0],x_train.values.shape[0]),dtype='float')"
   ]
  },
  {
   "cell_type": "code",
   "execution_count": null,
   "metadata": {},
   "outputs": [],
   "source": [
    "dist.shape"
   ]
  },
  {
   "cell_type": "code",
   "execution_count": 2,
   "metadata": {},
   "outputs": [],
   "source": [
    "%load_ext Cython"
   ]
  },
  {
   "cell_type": "code",
   "execution_count": 5,
   "metadata": {},
   "outputs": [
    {
     "data": {
      "text/html": [
       "<!DOCTYPE html>\n",
       "<!-- Generated by Cython 0.29.15 -->\n",
       "<html>\n",
       "<head>\n",
       "    <meta http-equiv=\"Content-Type\" content=\"text/html; charset=utf-8\" />\n",
       "    <title>Cython: _cython_magic_2514039c33592d640b59325824c443bc.pyx</title>\n",
       "    <style type=\"text/css\">\n",
       "    \n",
       "body.cython { font-family: courier; font-size: 12; }\n",
       "\n",
       ".cython.tag  {  }\n",
       ".cython.line { margin: 0em }\n",
       ".cython.code { font-size: 9; color: #444444; display: none; margin: 0px 0px 0px 8px; border-left: 8px none; }\n",
       "\n",
       ".cython.line .run { background-color: #B0FFB0; }\n",
       ".cython.line .mis { background-color: #FFB0B0; }\n",
       ".cython.code.run  { border-left: 8px solid #B0FFB0; }\n",
       ".cython.code.mis  { border-left: 8px solid #FFB0B0; }\n",
       "\n",
       ".cython.code .py_c_api  { color: red; }\n",
       ".cython.code .py_macro_api  { color: #FF7000; }\n",
       ".cython.code .pyx_c_api  { color: #FF3000; }\n",
       ".cython.code .pyx_macro_api  { color: #FF7000; }\n",
       ".cython.code .refnanny  { color: #FFA000; }\n",
       ".cython.code .trace  { color: #FFA000; }\n",
       ".cython.code .error_goto  { color: #FFA000; }\n",
       "\n",
       ".cython.code .coerce  { color: #008000; border: 1px dotted #008000 }\n",
       ".cython.code .py_attr { color: #FF0000; font-weight: bold; }\n",
       ".cython.code .c_attr  { color: #0000FF; }\n",
       ".cython.code .py_call { color: #FF0000; font-weight: bold; }\n",
       ".cython.code .c_call  { color: #0000FF; }\n",
       "\n",
       ".cython.score-0 {background-color: #FFFFff;}\n",
       ".cython.score-1 {background-color: #FFFFe7;}\n",
       ".cython.score-2 {background-color: #FFFFd4;}\n",
       ".cython.score-3 {background-color: #FFFFc4;}\n",
       ".cython.score-4 {background-color: #FFFFb6;}\n",
       ".cython.score-5 {background-color: #FFFFaa;}\n",
       ".cython.score-6 {background-color: #FFFF9f;}\n",
       ".cython.score-7 {background-color: #FFFF96;}\n",
       ".cython.score-8 {background-color: #FFFF8d;}\n",
       ".cython.score-9 {background-color: #FFFF86;}\n",
       ".cython.score-10 {background-color: #FFFF7f;}\n",
       ".cython.score-11 {background-color: #FFFF79;}\n",
       ".cython.score-12 {background-color: #FFFF73;}\n",
       ".cython.score-13 {background-color: #FFFF6e;}\n",
       ".cython.score-14 {background-color: #FFFF6a;}\n",
       ".cython.score-15 {background-color: #FFFF66;}\n",
       ".cython.score-16 {background-color: #FFFF62;}\n",
       ".cython.score-17 {background-color: #FFFF5e;}\n",
       ".cython.score-18 {background-color: #FFFF5b;}\n",
       ".cython.score-19 {background-color: #FFFF57;}\n",
       ".cython.score-20 {background-color: #FFFF55;}\n",
       ".cython.score-21 {background-color: #FFFF52;}\n",
       ".cython.score-22 {background-color: #FFFF4f;}\n",
       ".cython.score-23 {background-color: #FFFF4d;}\n",
       ".cython.score-24 {background-color: #FFFF4b;}\n",
       ".cython.score-25 {background-color: #FFFF48;}\n",
       ".cython.score-26 {background-color: #FFFF46;}\n",
       ".cython.score-27 {background-color: #FFFF44;}\n",
       ".cython.score-28 {background-color: #FFFF43;}\n",
       ".cython.score-29 {background-color: #FFFF41;}\n",
       ".cython.score-30 {background-color: #FFFF3f;}\n",
       ".cython.score-31 {background-color: #FFFF3e;}\n",
       ".cython.score-32 {background-color: #FFFF3c;}\n",
       ".cython.score-33 {background-color: #FFFF3b;}\n",
       ".cython.score-34 {background-color: #FFFF39;}\n",
       ".cython.score-35 {background-color: #FFFF38;}\n",
       ".cython.score-36 {background-color: #FFFF37;}\n",
       ".cython.score-37 {background-color: #FFFF36;}\n",
       ".cython.score-38 {background-color: #FFFF35;}\n",
       ".cython.score-39 {background-color: #FFFF34;}\n",
       ".cython.score-40 {background-color: #FFFF33;}\n",
       ".cython.score-41 {background-color: #FFFF32;}\n",
       ".cython.score-42 {background-color: #FFFF31;}\n",
       ".cython.score-43 {background-color: #FFFF30;}\n",
       ".cython.score-44 {background-color: #FFFF2f;}\n",
       ".cython.score-45 {background-color: #FFFF2e;}\n",
       ".cython.score-46 {background-color: #FFFF2d;}\n",
       ".cython.score-47 {background-color: #FFFF2c;}\n",
       ".cython.score-48 {background-color: #FFFF2b;}\n",
       ".cython.score-49 {background-color: #FFFF2b;}\n",
       ".cython.score-50 {background-color: #FFFF2a;}\n",
       ".cython.score-51 {background-color: #FFFF29;}\n",
       ".cython.score-52 {background-color: #FFFF29;}\n",
       ".cython.score-53 {background-color: #FFFF28;}\n",
       ".cython.score-54 {background-color: #FFFF27;}\n",
       ".cython.score-55 {background-color: #FFFF27;}\n",
       ".cython.score-56 {background-color: #FFFF26;}\n",
       ".cython.score-57 {background-color: #FFFF26;}\n",
       ".cython.score-58 {background-color: #FFFF25;}\n",
       ".cython.score-59 {background-color: #FFFF24;}\n",
       ".cython.score-60 {background-color: #FFFF24;}\n",
       ".cython.score-61 {background-color: #FFFF23;}\n",
       ".cython.score-62 {background-color: #FFFF23;}\n",
       ".cython.score-63 {background-color: #FFFF22;}\n",
       ".cython.score-64 {background-color: #FFFF22;}\n",
       ".cython.score-65 {background-color: #FFFF22;}\n",
       ".cython.score-66 {background-color: #FFFF21;}\n",
       ".cython.score-67 {background-color: #FFFF21;}\n",
       ".cython.score-68 {background-color: #FFFF20;}\n",
       ".cython.score-69 {background-color: #FFFF20;}\n",
       ".cython.score-70 {background-color: #FFFF1f;}\n",
       ".cython.score-71 {background-color: #FFFF1f;}\n",
       ".cython.score-72 {background-color: #FFFF1f;}\n",
       ".cython.score-73 {background-color: #FFFF1e;}\n",
       ".cython.score-74 {background-color: #FFFF1e;}\n",
       ".cython.score-75 {background-color: #FFFF1e;}\n",
       ".cython.score-76 {background-color: #FFFF1d;}\n",
       ".cython.score-77 {background-color: #FFFF1d;}\n",
       ".cython.score-78 {background-color: #FFFF1c;}\n",
       ".cython.score-79 {background-color: #FFFF1c;}\n",
       ".cython.score-80 {background-color: #FFFF1c;}\n",
       ".cython.score-81 {background-color: #FFFF1c;}\n",
       ".cython.score-82 {background-color: #FFFF1b;}\n",
       ".cython.score-83 {background-color: #FFFF1b;}\n",
       ".cython.score-84 {background-color: #FFFF1b;}\n",
       ".cython.score-85 {background-color: #FFFF1a;}\n",
       ".cython.score-86 {background-color: #FFFF1a;}\n",
       ".cython.score-87 {background-color: #FFFF1a;}\n",
       ".cython.score-88 {background-color: #FFFF1a;}\n",
       ".cython.score-89 {background-color: #FFFF19;}\n",
       ".cython.score-90 {background-color: #FFFF19;}\n",
       ".cython.score-91 {background-color: #FFFF19;}\n",
       ".cython.score-92 {background-color: #FFFF19;}\n",
       ".cython.score-93 {background-color: #FFFF18;}\n",
       ".cython.score-94 {background-color: #FFFF18;}\n",
       ".cython.score-95 {background-color: #FFFF18;}\n",
       ".cython.score-96 {background-color: #FFFF18;}\n",
       ".cython.score-97 {background-color: #FFFF17;}\n",
       ".cython.score-98 {background-color: #FFFF17;}\n",
       ".cython.score-99 {background-color: #FFFF17;}\n",
       ".cython.score-100 {background-color: #FFFF17;}\n",
       ".cython.score-101 {background-color: #FFFF16;}\n",
       ".cython.score-102 {background-color: #FFFF16;}\n",
       ".cython.score-103 {background-color: #FFFF16;}\n",
       ".cython.score-104 {background-color: #FFFF16;}\n",
       ".cython.score-105 {background-color: #FFFF16;}\n",
       ".cython.score-106 {background-color: #FFFF15;}\n",
       ".cython.score-107 {background-color: #FFFF15;}\n",
       ".cython.score-108 {background-color: #FFFF15;}\n",
       ".cython.score-109 {background-color: #FFFF15;}\n",
       ".cython.score-110 {background-color: #FFFF15;}\n",
       ".cython.score-111 {background-color: #FFFF15;}\n",
       ".cython.score-112 {background-color: #FFFF14;}\n",
       ".cython.score-113 {background-color: #FFFF14;}\n",
       ".cython.score-114 {background-color: #FFFF14;}\n",
       ".cython.score-115 {background-color: #FFFF14;}\n",
       ".cython.score-116 {background-color: #FFFF14;}\n",
       ".cython.score-117 {background-color: #FFFF14;}\n",
       ".cython.score-118 {background-color: #FFFF13;}\n",
       ".cython.score-119 {background-color: #FFFF13;}\n",
       ".cython.score-120 {background-color: #FFFF13;}\n",
       ".cython.score-121 {background-color: #FFFF13;}\n",
       ".cython.score-122 {background-color: #FFFF13;}\n",
       ".cython.score-123 {background-color: #FFFF13;}\n",
       ".cython.score-124 {background-color: #FFFF13;}\n",
       ".cython.score-125 {background-color: #FFFF12;}\n",
       ".cython.score-126 {background-color: #FFFF12;}\n",
       ".cython.score-127 {background-color: #FFFF12;}\n",
       ".cython.score-128 {background-color: #FFFF12;}\n",
       ".cython.score-129 {background-color: #FFFF12;}\n",
       ".cython.score-130 {background-color: #FFFF12;}\n",
       ".cython.score-131 {background-color: #FFFF12;}\n",
       ".cython.score-132 {background-color: #FFFF11;}\n",
       ".cython.score-133 {background-color: #FFFF11;}\n",
       ".cython.score-134 {background-color: #FFFF11;}\n",
       ".cython.score-135 {background-color: #FFFF11;}\n",
       ".cython.score-136 {background-color: #FFFF11;}\n",
       ".cython.score-137 {background-color: #FFFF11;}\n",
       ".cython.score-138 {background-color: #FFFF11;}\n",
       ".cython.score-139 {background-color: #FFFF11;}\n",
       ".cython.score-140 {background-color: #FFFF11;}\n",
       ".cython.score-141 {background-color: #FFFF10;}\n",
       ".cython.score-142 {background-color: #FFFF10;}\n",
       ".cython.score-143 {background-color: #FFFF10;}\n",
       ".cython.score-144 {background-color: #FFFF10;}\n",
       ".cython.score-145 {background-color: #FFFF10;}\n",
       ".cython.score-146 {background-color: #FFFF10;}\n",
       ".cython.score-147 {background-color: #FFFF10;}\n",
       ".cython.score-148 {background-color: #FFFF10;}\n",
       ".cython.score-149 {background-color: #FFFF10;}\n",
       ".cython.score-150 {background-color: #FFFF0f;}\n",
       ".cython.score-151 {background-color: #FFFF0f;}\n",
       ".cython.score-152 {background-color: #FFFF0f;}\n",
       ".cython.score-153 {background-color: #FFFF0f;}\n",
       ".cython.score-154 {background-color: #FFFF0f;}\n",
       ".cython.score-155 {background-color: #FFFF0f;}\n",
       ".cython.score-156 {background-color: #FFFF0f;}\n",
       ".cython.score-157 {background-color: #FFFF0f;}\n",
       ".cython.score-158 {background-color: #FFFF0f;}\n",
       ".cython.score-159 {background-color: #FFFF0f;}\n",
       ".cython.score-160 {background-color: #FFFF0f;}\n",
       ".cython.score-161 {background-color: #FFFF0e;}\n",
       ".cython.score-162 {background-color: #FFFF0e;}\n",
       ".cython.score-163 {background-color: #FFFF0e;}\n",
       ".cython.score-164 {background-color: #FFFF0e;}\n",
       ".cython.score-165 {background-color: #FFFF0e;}\n",
       ".cython.score-166 {background-color: #FFFF0e;}\n",
       ".cython.score-167 {background-color: #FFFF0e;}\n",
       ".cython.score-168 {background-color: #FFFF0e;}\n",
       ".cython.score-169 {background-color: #FFFF0e;}\n",
       ".cython.score-170 {background-color: #FFFF0e;}\n",
       ".cython.score-171 {background-color: #FFFF0e;}\n",
       ".cython.score-172 {background-color: #FFFF0e;}\n",
       ".cython.score-173 {background-color: #FFFF0d;}\n",
       ".cython.score-174 {background-color: #FFFF0d;}\n",
       ".cython.score-175 {background-color: #FFFF0d;}\n",
       ".cython.score-176 {background-color: #FFFF0d;}\n",
       ".cython.score-177 {background-color: #FFFF0d;}\n",
       ".cython.score-178 {background-color: #FFFF0d;}\n",
       ".cython.score-179 {background-color: #FFFF0d;}\n",
       ".cython.score-180 {background-color: #FFFF0d;}\n",
       ".cython.score-181 {background-color: #FFFF0d;}\n",
       ".cython.score-182 {background-color: #FFFF0d;}\n",
       ".cython.score-183 {background-color: #FFFF0d;}\n",
       ".cython.score-184 {background-color: #FFFF0d;}\n",
       ".cython.score-185 {background-color: #FFFF0d;}\n",
       ".cython.score-186 {background-color: #FFFF0d;}\n",
       ".cython.score-187 {background-color: #FFFF0c;}\n",
       ".cython.score-188 {background-color: #FFFF0c;}\n",
       ".cython.score-189 {background-color: #FFFF0c;}\n",
       ".cython.score-190 {background-color: #FFFF0c;}\n",
       ".cython.score-191 {background-color: #FFFF0c;}\n",
       ".cython.score-192 {background-color: #FFFF0c;}\n",
       ".cython.score-193 {background-color: #FFFF0c;}\n",
       ".cython.score-194 {background-color: #FFFF0c;}\n",
       ".cython.score-195 {background-color: #FFFF0c;}\n",
       ".cython.score-196 {background-color: #FFFF0c;}\n",
       ".cython.score-197 {background-color: #FFFF0c;}\n",
       ".cython.score-198 {background-color: #FFFF0c;}\n",
       ".cython.score-199 {background-color: #FFFF0c;}\n",
       ".cython.score-200 {background-color: #FFFF0c;}\n",
       ".cython.score-201 {background-color: #FFFF0c;}\n",
       ".cython.score-202 {background-color: #FFFF0c;}\n",
       ".cython.score-203 {background-color: #FFFF0b;}\n",
       ".cython.score-204 {background-color: #FFFF0b;}\n",
       ".cython.score-205 {background-color: #FFFF0b;}\n",
       ".cython.score-206 {background-color: #FFFF0b;}\n",
       ".cython.score-207 {background-color: #FFFF0b;}\n",
       ".cython.score-208 {background-color: #FFFF0b;}\n",
       ".cython.score-209 {background-color: #FFFF0b;}\n",
       ".cython.score-210 {background-color: #FFFF0b;}\n",
       ".cython.score-211 {background-color: #FFFF0b;}\n",
       ".cython.score-212 {background-color: #FFFF0b;}\n",
       ".cython.score-213 {background-color: #FFFF0b;}\n",
       ".cython.score-214 {background-color: #FFFF0b;}\n",
       ".cython.score-215 {background-color: #FFFF0b;}\n",
       ".cython.score-216 {background-color: #FFFF0b;}\n",
       ".cython.score-217 {background-color: #FFFF0b;}\n",
       ".cython.score-218 {background-color: #FFFF0b;}\n",
       ".cython.score-219 {background-color: #FFFF0b;}\n",
       ".cython.score-220 {background-color: #FFFF0b;}\n",
       ".cython.score-221 {background-color: #FFFF0b;}\n",
       ".cython.score-222 {background-color: #FFFF0a;}\n",
       ".cython.score-223 {background-color: #FFFF0a;}\n",
       ".cython.score-224 {background-color: #FFFF0a;}\n",
       ".cython.score-225 {background-color: #FFFF0a;}\n",
       ".cython.score-226 {background-color: #FFFF0a;}\n",
       ".cython.score-227 {background-color: #FFFF0a;}\n",
       ".cython.score-228 {background-color: #FFFF0a;}\n",
       ".cython.score-229 {background-color: #FFFF0a;}\n",
       ".cython.score-230 {background-color: #FFFF0a;}\n",
       ".cython.score-231 {background-color: #FFFF0a;}\n",
       ".cython.score-232 {background-color: #FFFF0a;}\n",
       ".cython.score-233 {background-color: #FFFF0a;}\n",
       ".cython.score-234 {background-color: #FFFF0a;}\n",
       ".cython.score-235 {background-color: #FFFF0a;}\n",
       ".cython.score-236 {background-color: #FFFF0a;}\n",
       ".cython.score-237 {background-color: #FFFF0a;}\n",
       ".cython.score-238 {background-color: #FFFF0a;}\n",
       ".cython.score-239 {background-color: #FFFF0a;}\n",
       ".cython.score-240 {background-color: #FFFF0a;}\n",
       ".cython.score-241 {background-color: #FFFF0a;}\n",
       ".cython.score-242 {background-color: #FFFF0a;}\n",
       ".cython.score-243 {background-color: #FFFF0a;}\n",
       ".cython.score-244 {background-color: #FFFF0a;}\n",
       ".cython.score-245 {background-color: #FFFF0a;}\n",
       ".cython.score-246 {background-color: #FFFF09;}\n",
       ".cython.score-247 {background-color: #FFFF09;}\n",
       ".cython.score-248 {background-color: #FFFF09;}\n",
       ".cython.score-249 {background-color: #FFFF09;}\n",
       ".cython.score-250 {background-color: #FFFF09;}\n",
       ".cython.score-251 {background-color: #FFFF09;}\n",
       ".cython.score-252 {background-color: #FFFF09;}\n",
       ".cython.score-253 {background-color: #FFFF09;}\n",
       ".cython.score-254 {background-color: #FFFF09;}\n",
       ".cython .hll { background-color: #ffffcc }\n",
       ".cython  { background: #f8f8f8; }\n",
       ".cython .c { color: #408080; font-style: italic } /* Comment */\n",
       ".cython .err { border: 1px solid #FF0000 } /* Error */\n",
       ".cython .k { color: #008000; font-weight: bold } /* Keyword */\n",
       ".cython .o { color: #666666 } /* Operator */\n",
       ".cython .ch { color: #408080; font-style: italic } /* Comment.Hashbang */\n",
       ".cython .cm { color: #408080; font-style: italic } /* Comment.Multiline */\n",
       ".cython .cp { color: #BC7A00 } /* Comment.Preproc */\n",
       ".cython .cpf { color: #408080; font-style: italic } /* Comment.PreprocFile */\n",
       ".cython .c1 { color: #408080; font-style: italic } /* Comment.Single */\n",
       ".cython .cs { color: #408080; font-style: italic } /* Comment.Special */\n",
       ".cython .gd { color: #A00000 } /* Generic.Deleted */\n",
       ".cython .ge { font-style: italic } /* Generic.Emph */\n",
       ".cython .gr { color: #FF0000 } /* Generic.Error */\n",
       ".cython .gh { color: #000080; font-weight: bold } /* Generic.Heading */\n",
       ".cython .gi { color: #00A000 } /* Generic.Inserted */\n",
       ".cython .go { color: #888888 } /* Generic.Output */\n",
       ".cython .gp { color: #000080; font-weight: bold } /* Generic.Prompt */\n",
       ".cython .gs { font-weight: bold } /* Generic.Strong */\n",
       ".cython .gu { color: #800080; font-weight: bold } /* Generic.Subheading */\n",
       ".cython .gt { color: #0044DD } /* Generic.Traceback */\n",
       ".cython .kc { color: #008000; font-weight: bold } /* Keyword.Constant */\n",
       ".cython .kd { color: #008000; font-weight: bold } /* Keyword.Declaration */\n",
       ".cython .kn { color: #008000; font-weight: bold } /* Keyword.Namespace */\n",
       ".cython .kp { color: #008000 } /* Keyword.Pseudo */\n",
       ".cython .kr { color: #008000; font-weight: bold } /* Keyword.Reserved */\n",
       ".cython .kt { color: #B00040 } /* Keyword.Type */\n",
       ".cython .m { color: #666666 } /* Literal.Number */\n",
       ".cython .s { color: #BA2121 } /* Literal.String */\n",
       ".cython .na { color: #7D9029 } /* Name.Attribute */\n",
       ".cython .nb { color: #008000 } /* Name.Builtin */\n",
       ".cython .nc { color: #0000FF; font-weight: bold } /* Name.Class */\n",
       ".cython .no { color: #880000 } /* Name.Constant */\n",
       ".cython .nd { color: #AA22FF } /* Name.Decorator */\n",
       ".cython .ni { color: #999999; font-weight: bold } /* Name.Entity */\n",
       ".cython .ne { color: #D2413A; font-weight: bold } /* Name.Exception */\n",
       ".cython .nf { color: #0000FF } /* Name.Function */\n",
       ".cython .nl { color: #A0A000 } /* Name.Label */\n",
       ".cython .nn { color: #0000FF; font-weight: bold } /* Name.Namespace */\n",
       ".cython .nt { color: #008000; font-weight: bold } /* Name.Tag */\n",
       ".cython .nv { color: #19177C } /* Name.Variable */\n",
       ".cython .ow { color: #AA22FF; font-weight: bold } /* Operator.Word */\n",
       ".cython .w { color: #bbbbbb } /* Text.Whitespace */\n",
       ".cython .mb { color: #666666 } /* Literal.Number.Bin */\n",
       ".cython .mf { color: #666666 } /* Literal.Number.Float */\n",
       ".cython .mh { color: #666666 } /* Literal.Number.Hex */\n",
       ".cython .mi { color: #666666 } /* Literal.Number.Integer */\n",
       ".cython .mo { color: #666666 } /* Literal.Number.Oct */\n",
       ".cython .sa { color: #BA2121 } /* Literal.String.Affix */\n",
       ".cython .sb { color: #BA2121 } /* Literal.String.Backtick */\n",
       ".cython .sc { color: #BA2121 } /* Literal.String.Char */\n",
       ".cython .dl { color: #BA2121 } /* Literal.String.Delimiter */\n",
       ".cython .sd { color: #BA2121; font-style: italic } /* Literal.String.Doc */\n",
       ".cython .s2 { color: #BA2121 } /* Literal.String.Double */\n",
       ".cython .se { color: #BB6622; font-weight: bold } /* Literal.String.Escape */\n",
       ".cython .sh { color: #BA2121 } /* Literal.String.Heredoc */\n",
       ".cython .si { color: #BB6688; font-weight: bold } /* Literal.String.Interpol */\n",
       ".cython .sx { color: #008000 } /* Literal.String.Other */\n",
       ".cython .sr { color: #BB6688 } /* Literal.String.Regex */\n",
       ".cython .s1 { color: #BA2121 } /* Literal.String.Single */\n",
       ".cython .ss { color: #19177C } /* Literal.String.Symbol */\n",
       ".cython .bp { color: #008000 } /* Name.Builtin.Pseudo */\n",
       ".cython .fm { color: #0000FF } /* Name.Function.Magic */\n",
       ".cython .vc { color: #19177C } /* Name.Variable.Class */\n",
       ".cython .vg { color: #19177C } /* Name.Variable.Global */\n",
       ".cython .vi { color: #19177C } /* Name.Variable.Instance */\n",
       ".cython .vm { color: #19177C } /* Name.Variable.Magic */\n",
       ".cython .il { color: #666666 } /* Literal.Number.Integer.Long */\n",
       "    </style>\n",
       "</head>\n",
       "<body class=\"cython\">\n",
       "<p><span style=\"border-bottom: solid 1px grey;\">Generated by Cython 0.29.15</span></p>\n",
       "<p>\n",
       "    <span style=\"background-color: #FFFF00\">Yellow lines</span> hint at Python interaction.<br />\n",
       "    Click on a line that starts with a \"<code>+</code>\" to see the C code that Cython generated for it.\n",
       "</p>\n",
       "<div class=\"cython\"><pre class=\"cython line score-0\">&#xA0;<span class=\"\">01</span>: </pre>\n",
       "<pre class=\"cython line score-0\">&#xA0;<span class=\"\">02</span>: </pre>\n",
       "<pre class=\"cython line score-16\" onclick=\"(function(s){s.display=s.display==='block'?'none':'block'})(this.nextElementSibling.style)\">+<span class=\"\">03</span>: <span class=\"k\">import</span> <span class=\"nn\">numpy</span> <span class=\"k\">as</span> <span class=\"nn\">np</span></pre>\n",
       "<pre class='cython code score-16 '>  __pyx_t_1 = <span class='pyx_c_api'>__Pyx_Import</span>(__pyx_n_s_numpy, 0, 0);<span class='error_goto'> if (unlikely(!__pyx_t_1)) __PYX_ERR(0, 3, __pyx_L1_error)</span>\n",
       "  <span class='refnanny'>__Pyx_GOTREF</span>(__pyx_t_1);\n",
       "  if (<span class='py_c_api'>PyDict_SetItem</span>(__pyx_d, __pyx_n_s_np, __pyx_t_1) &lt; 0) <span class='error_goto'>__PYX_ERR(0, 3, __pyx_L1_error)</span>\n",
       "  <span class='pyx_macro_api'>__Pyx_DECREF</span>(__pyx_t_1); __pyx_t_1 = 0;\n",
       "/* … */\n",
       "  __pyx_t_1 = <span class='pyx_c_api'>__Pyx_PyDict_NewPresized</span>(0);<span class='error_goto'> if (unlikely(!__pyx_t_1)) __PYX_ERR(0, 3, __pyx_L1_error)</span>\n",
       "  <span class='refnanny'>__Pyx_GOTREF</span>(__pyx_t_1);\n",
       "  if (<span class='py_c_api'>PyDict_SetItem</span>(__pyx_d, __pyx_n_s_test, __pyx_t_1) &lt; 0) <span class='error_goto'>__PYX_ERR(0, 3, __pyx_L1_error)</span>\n",
       "  <span class='pyx_macro_api'>__Pyx_DECREF</span>(__pyx_t_1); __pyx_t_1 = 0;\n",
       "</pre><pre class=\"cython line score-0\">&#xA0;<span class=\"\">04</span>: <span class=\"k\">cimport</span> <span class=\"nn\">numpy</span> <span class=\"k\">as</span> <span class=\"nn\">np</span></pre>\n",
       "<pre class=\"cython line score-0\">&#xA0;<span class=\"\">05</span>: <span class=\"k\">from</span> <span class=\"nn\">cython.parallel</span> <span class=\"k\">import</span> <span class=\"n\">prange</span><span class=\"p\">,</span><span class=\"n\">parallel</span></pre>\n",
       "<pre class=\"cython line score-0\">&#xA0;<span class=\"\">06</span>: <span class=\"k\">cimport</span> <span class=\"nn\">cython</span></pre>\n",
       "<pre class=\"cython line score-0\">&#xA0;<span class=\"\">07</span>: </pre>\n",
       "<pre class=\"cython line score-0\">&#xA0;<span class=\"\">08</span>: <span class=\"nd\">@cython</span><span class=\"o\">.</span><span class=\"n\">profile</span><span class=\"p\">(</span><span class=\"bp\">False</span><span class=\"p\">)</span></pre>\n",
       "<pre class=\"cython line score-0\">&#xA0;<span class=\"\">09</span>: <span class=\"nd\">@cython</span><span class=\"o\">.</span><span class=\"n\">boundscheck</span><span class=\"p\">(</span><span class=\"bp\">False</span><span class=\"p\">)</span></pre>\n",
       "<pre class=\"cython line score-0\">&#xA0;<span class=\"\">10</span>: <span class=\"nd\">@cython</span><span class=\"o\">.</span><span class=\"n\">wraparound</span><span class=\"p\">(</span><span class=\"bp\">False</span><span class=\"p\">)</span></pre>\n",
       "<pre class=\"cython line score-0\">&#xA0;<span class=\"\">11</span>: <span class=\"nd\">@cython</span><span class=\"o\">.</span><span class=\"n\">initializedcheck</span><span class=\"p\">(</span><span class=\"bp\">False</span><span class=\"p\">)</span></pre>\n",
       "<pre class=\"cython line score-0\">&#xA0;<span class=\"\">12</span>: <span class=\"nd\">@cython</span><span class=\"o\">.</span><span class=\"n\">cdivision</span><span class=\"p\">(</span><span class=\"bp\">True</span><span class=\"p\">)</span></pre>\n",
       "<pre class=\"cython line score-70\" onclick=\"(function(s){s.display=s.display==='block'?'none':'block'})(this.nextElementSibling.style)\">+<span class=\"\">13</span>: <span class=\"k\">cpdef</span> <span class=\"kt\">double</span>[<span class=\"p\">:,</span> <span class=\"p\">::</span><span class=\"mf\">1</span><span class=\"p\">]</span> <span class=\"n\">dist</span><span class=\"p\">(</span><span class=\"n\">double</span> <span class=\"p\">[:,</span> <span class=\"p\">:]</span> <span class=\"n\">A</span><span class=\"p\">,</span> <span class=\"nb\">int</span> <span class=\"n\">k_max</span><span class=\"p\">,</span><span class=\"nb\">int</span> <span class=\"n\">p</span><span class=\"p\">):</span> <span class=\"c\">#k: number of max k, </span></pre>\n",
       "<pre class='cython code score-70 '>static PyObject *__pyx_pw_46_cython_magic_2514039c33592d640b59325824c443bc_1dist(PyObject *__pyx_self, PyObject *__pyx_args, PyObject *__pyx_kwds); /*proto*/\n",
       "static __Pyx_memviewslice __pyx_f_46_cython_magic_2514039c33592d640b59325824c443bc_dist(__Pyx_memviewslice __pyx_v_A, CYTHON_UNUSED int __pyx_v_k_max, int __pyx_v_p, CYTHON_UNUSED int __pyx_skip_dispatch) {\n",
       "  Py_ssize_t __pyx_v_n_row;\n",
       "  Py_ssize_t __pyx_v_n_col;\n",
       "  Py_ssize_t __pyx_v_i;\n",
       "  Py_ssize_t __pyx_v_j;\n",
       "  Py_ssize_t __pyx_v_k;\n",
       "  PyArrayObject *__pyx_v_dist_matrix = 0;\n",
       "  double __pyx_v_temp;\n",
       "  double __pyx_v_diff;\n",
       "  __Pyx_LocalBuf_ND __pyx_pybuffernd_dist_matrix;\n",
       "  __Pyx_Buffer __pyx_pybuffer_dist_matrix;\n",
       "  __Pyx_memviewslice __pyx_r = { 0, 0, { 0 }, { 0 }, { 0 } };\n",
       "  <span class='refnanny'>__Pyx_RefNannyDeclarations</span>\n",
       "  <span class='refnanny'>__Pyx_RefNannySetupContext</span>(\"dist\", 0);\n",
       "  __pyx_pybuffer_dist_matrix.pybuffer.buf = NULL;\n",
       "  __pyx_pybuffer_dist_matrix.refcount = 0;\n",
       "  __pyx_pybuffernd_dist_matrix.data = NULL;\n",
       "  __pyx_pybuffernd_dist_matrix.rcbuffer = &amp;__pyx_pybuffer_dist_matrix;\n",
       "/* … */\n",
       "  /* function exit code */\n",
       "  __pyx_L1_error:;\n",
       "  <span class='pyx_macro_api'>__Pyx_XDECREF</span>(__pyx_t_1);\n",
       "  <span class='pyx_macro_api'>__Pyx_XDECREF</span>(__pyx_t_2);\n",
       "  <span class='pyx_macro_api'>__Pyx_XDECREF</span>(__pyx_t_3);\n",
       "  <span class='pyx_macro_api'>__Pyx_XDECREF</span>(__pyx_t_4);\n",
       "  __PYX_XDEC_MEMVIEW(&amp;__pyx_t_23, 1);\n",
       "  { PyObject *__pyx_type, *__pyx_value, *__pyx_tb;\n",
       "    __Pyx_PyThreadState_declare\n",
       "    __Pyx_PyThreadState_assign\n",
       "    <span class='pyx_c_api'>__Pyx_ErrFetch</span>(&amp;__pyx_type, &amp;__pyx_value, &amp;__pyx_tb);\n",
       "    <span class='pyx_c_api'>__Pyx_SafeReleaseBuffer</span>(&amp;__pyx_pybuffernd_dist_matrix.rcbuffer-&gt;pybuffer);\n",
       "  <span class='pyx_c_api'>__Pyx_ErrRestore</span>(__pyx_type, __pyx_value, __pyx_tb);}\n",
       "  __pyx_r.data = NULL;\n",
       "  __pyx_r.memview = NULL;\n",
       "  <span class='pyx_c_api'>__Pyx_AddTraceback</span>(\"_cython_magic_2514039c33592d640b59325824c443bc.dist\", __pyx_clineno, __pyx_lineno, __pyx_filename);\n",
       "  goto __pyx_L2;\n",
       "  __pyx_L0:;\n",
       "  <span class='pyx_c_api'>__Pyx_SafeReleaseBuffer</span>(&amp;__pyx_pybuffernd_dist_matrix.rcbuffer-&gt;pybuffer);\n",
       "  if (unlikely(!__pyx_r.memview)) {\n",
       "    <span class='py_c_api'>PyErr_SetString</span>(PyExc_TypeError, \"Memoryview return value is not initialized\");\n",
       "  }\n",
       "  __pyx_L2:;\n",
       "  <span class='pyx_macro_api'>__Pyx_XDECREF</span>((PyObject *)__pyx_v_dist_matrix);\n",
       "  <span class='refnanny'>__Pyx_RefNannyFinishContext</span>();\n",
       "  return __pyx_r;\n",
       "}\n",
       "\n",
       "/* Python wrapper */\n",
       "static PyObject *__pyx_pw_46_cython_magic_2514039c33592d640b59325824c443bc_1dist(PyObject *__pyx_self, PyObject *__pyx_args, PyObject *__pyx_kwds); /*proto*/\n",
       "static char __pyx_doc_46_cython_magic_2514039c33592d640b59325824c443bc_dist[] = \"\\n    A-&gt; matrix\\n    k_max -&gt; max number of neighbors\\n    p-&gt; mikowski distance\\n    \";\n",
       "static PyObject *__pyx_pw_46_cython_magic_2514039c33592d640b59325824c443bc_1dist(PyObject *__pyx_self, PyObject *__pyx_args, PyObject *__pyx_kwds) {\n",
       "  __Pyx_memviewslice __pyx_v_A = { 0, 0, { 0 }, { 0 }, { 0 } };\n",
       "  int __pyx_v_k_max;\n",
       "  int __pyx_v_p;\n",
       "  PyObject *__pyx_r = 0;\n",
       "  <span class='refnanny'>__Pyx_RefNannyDeclarations</span>\n",
       "  <span class='refnanny'>__Pyx_RefNannySetupContext</span>(\"dist (wrapper)\", 0);\n",
       "  {\n",
       "    static PyObject **__pyx_pyargnames[] = {&amp;__pyx_n_s_A,&amp;__pyx_n_s_k_max,&amp;__pyx_n_s_p,0};\n",
       "    PyObject* values[3] = {0,0,0};\n",
       "    if (unlikely(__pyx_kwds)) {\n",
       "      Py_ssize_t kw_args;\n",
       "      const Py_ssize_t pos_args = <span class='py_macro_api'>PyTuple_GET_SIZE</span>(__pyx_args);\n",
       "      switch (pos_args) {\n",
       "        case  3: values[2] = <span class='py_macro_api'>PyTuple_GET_ITEM</span>(__pyx_args, 2);\n",
       "        CYTHON_FALLTHROUGH;\n",
       "        case  2: values[1] = <span class='py_macro_api'>PyTuple_GET_ITEM</span>(__pyx_args, 1);\n",
       "        CYTHON_FALLTHROUGH;\n",
       "        case  1: values[0] = <span class='py_macro_api'>PyTuple_GET_ITEM</span>(__pyx_args, 0);\n",
       "        CYTHON_FALLTHROUGH;\n",
       "        case  0: break;\n",
       "        default: goto __pyx_L5_argtuple_error;\n",
       "      }\n",
       "      kw_args = <span class='py_c_api'>PyDict_Size</span>(__pyx_kwds);\n",
       "      switch (pos_args) {\n",
       "        case  0:\n",
       "        if (likely((values[0] = <span class='pyx_c_api'>__Pyx_PyDict_GetItemStr</span>(__pyx_kwds, __pyx_n_s_A)) != 0)) kw_args--;\n",
       "        else goto __pyx_L5_argtuple_error;\n",
       "        CYTHON_FALLTHROUGH;\n",
       "        case  1:\n",
       "        if (likely((values[1] = <span class='pyx_c_api'>__Pyx_PyDict_GetItemStr</span>(__pyx_kwds, __pyx_n_s_k_max)) != 0)) kw_args--;\n",
       "        else {\n",
       "          <span class='pyx_c_api'>__Pyx_RaiseArgtupleInvalid</span>(\"dist\", 1, 3, 3, 1); <span class='error_goto'>__PYX_ERR(0, 13, __pyx_L3_error)</span>\n",
       "        }\n",
       "        CYTHON_FALLTHROUGH;\n",
       "        case  2:\n",
       "        if (likely((values[2] = <span class='pyx_c_api'>__Pyx_PyDict_GetItemStr</span>(__pyx_kwds, __pyx_n_s_p)) != 0)) kw_args--;\n",
       "        else {\n",
       "          <span class='pyx_c_api'>__Pyx_RaiseArgtupleInvalid</span>(\"dist\", 1, 3, 3, 2); <span class='error_goto'>__PYX_ERR(0, 13, __pyx_L3_error)</span>\n",
       "        }\n",
       "      }\n",
       "      if (unlikely(kw_args &gt; 0)) {\n",
       "        if (unlikely(<span class='pyx_c_api'>__Pyx_ParseOptionalKeywords</span>(__pyx_kwds, __pyx_pyargnames, 0, values, pos_args, \"dist\") &lt; 0)) <span class='error_goto'>__PYX_ERR(0, 13, __pyx_L3_error)</span>\n",
       "      }\n",
       "    } else if (<span class='py_macro_api'>PyTuple_GET_SIZE</span>(__pyx_args) != 3) {\n",
       "      goto __pyx_L5_argtuple_error;\n",
       "    } else {\n",
       "      values[0] = <span class='py_macro_api'>PyTuple_GET_ITEM</span>(__pyx_args, 0);\n",
       "      values[1] = <span class='py_macro_api'>PyTuple_GET_ITEM</span>(__pyx_args, 1);\n",
       "      values[2] = <span class='py_macro_api'>PyTuple_GET_ITEM</span>(__pyx_args, 2);\n",
       "    }\n",
       "    __pyx_v_A = <span class='pyx_c_api'>__Pyx_PyObject_to_MemoryviewSlice_dsds_double</span>(values[0], PyBUF_WRITABLE);<span class='error_goto'> if (unlikely(!__pyx_v_A.memview)) __PYX_ERR(0, 13, __pyx_L3_error)</span>\n",
       "    __pyx_v_k_max = <span class='pyx_c_api'>__Pyx_PyInt_As_int</span>(values[1]); if (unlikely((__pyx_v_k_max == (int)-1) &amp;&amp; <span class='py_c_api'>PyErr_Occurred</span>())) <span class='error_goto'>__PYX_ERR(0, 13, __pyx_L3_error)</span>\n",
       "    __pyx_v_p = <span class='pyx_c_api'>__Pyx_PyInt_As_int</span>(values[2]); if (unlikely((__pyx_v_p == (int)-1) &amp;&amp; <span class='py_c_api'>PyErr_Occurred</span>())) <span class='error_goto'>__PYX_ERR(0, 13, __pyx_L3_error)</span>\n",
       "  }\n",
       "  goto __pyx_L4_argument_unpacking_done;\n",
       "  __pyx_L5_argtuple_error:;\n",
       "  <span class='pyx_c_api'>__Pyx_RaiseArgtupleInvalid</span>(\"dist\", 1, 3, 3, <span class='py_macro_api'>PyTuple_GET_SIZE</span>(__pyx_args)); <span class='error_goto'>__PYX_ERR(0, 13, __pyx_L3_error)</span>\n",
       "  __pyx_L3_error:;\n",
       "  <span class='pyx_c_api'>__Pyx_AddTraceback</span>(\"_cython_magic_2514039c33592d640b59325824c443bc.dist\", __pyx_clineno, __pyx_lineno, __pyx_filename);\n",
       "  <span class='refnanny'>__Pyx_RefNannyFinishContext</span>();\n",
       "  return NULL;\n",
       "  __pyx_L4_argument_unpacking_done:;\n",
       "  __pyx_r = __pyx_pf_46_cython_magic_2514039c33592d640b59325824c443bc_dist(__pyx_self, __pyx_v_A, __pyx_v_k_max, __pyx_v_p);\n",
       "\n",
       "  /* function exit code */\n",
       "  <span class='refnanny'>__Pyx_RefNannyFinishContext</span>();\n",
       "  return __pyx_r;\n",
       "}\n",
       "\n",
       "static PyObject *__pyx_pf_46_cython_magic_2514039c33592d640b59325824c443bc_dist(CYTHON_UNUSED PyObject *__pyx_self, __Pyx_memviewslice __pyx_v_A, int __pyx_v_k_max, int __pyx_v_p) {\n",
       "  PyObject *__pyx_r = NULL;\n",
       "  <span class='refnanny'>__Pyx_RefNannyDeclarations</span>\n",
       "  <span class='refnanny'>__Pyx_RefNannySetupContext</span>(\"dist\", 0);\n",
       "  <span class='pyx_macro_api'>__Pyx_XDECREF</span>(__pyx_r);\n",
       "  __pyx_t_1 = __pyx_f_46_cython_magic_2514039c33592d640b59325824c443bc_dist(__pyx_v_A, __pyx_v_k_max, __pyx_v_p, 0);<span class='error_goto'> if (unlikely(!__pyx_t_1.memview)) __PYX_ERR(0, 13, __pyx_L1_error)</span>\n",
       "  __pyx_t_2 = __pyx_memoryview_fromslice(__pyx_t_1, 2, (PyObject *(*)(char *)) __pyx_memview_get_double, (int (*)(char *, PyObject *)) __pyx_memview_set_double, 0);;<span class='error_goto'> if (unlikely(!__pyx_t_2)) __PYX_ERR(0, 13, __pyx_L1_error)</span>\n",
       "  <span class='refnanny'>__Pyx_GOTREF</span>(__pyx_t_2);\n",
       "  __PYX_XDEC_MEMVIEW(&amp;__pyx_t_1, 1);\n",
       "  __pyx_t_1.memview = NULL;\n",
       "  __pyx_t_1.data = NULL;\n",
       "  __pyx_r = __pyx_t_2;\n",
       "  __pyx_t_2 = 0;\n",
       "  goto __pyx_L0;\n",
       "\n",
       "  /* function exit code */\n",
       "  __pyx_L1_error:;\n",
       "  __PYX_XDEC_MEMVIEW(&amp;__pyx_t_1, 1);\n",
       "  <span class='pyx_macro_api'>__Pyx_XDECREF</span>(__pyx_t_2);\n",
       "  <span class='pyx_c_api'>__Pyx_AddTraceback</span>(\"_cython_magic_2514039c33592d640b59325824c443bc.dist\", __pyx_clineno, __pyx_lineno, __pyx_filename);\n",
       "  __pyx_r = NULL;\n",
       "  __pyx_L0:;\n",
       "  __PYX_XDEC_MEMVIEW(&amp;__pyx_v_A, 1);\n",
       "  <span class='refnanny'>__Pyx_XGIVEREF</span>(__pyx_r);\n",
       "  <span class='refnanny'>__Pyx_RefNannyFinishContext</span>();\n",
       "  return __pyx_r;\n",
       "}\n",
       "</pre><pre class=\"cython line score-0\">&#xA0;<span class=\"\">14</span>:     <span class=\"sd\">&#39;&#39;&#39;</span></pre>\n",
       "<pre class=\"cython line score-0\">&#xA0;<span class=\"\">15</span>: <span class=\"sd\">    A-&gt; matrix</span></pre>\n",
       "<pre class=\"cython line score-0\">&#xA0;<span class=\"\">16</span>: <span class=\"sd\">    k_max -&gt; max number of neighbors</span></pre>\n",
       "<pre class=\"cython line score-0\">&#xA0;<span class=\"\">17</span>: <span class=\"sd\">    p-&gt; mikowski distance</span></pre>\n",
       "<pre class=\"cython line score-0\">&#xA0;<span class=\"\">18</span>: <span class=\"sd\">    &#39;&#39;&#39;</span></pre>\n",
       "<pre class=\"cython line score-0\">&#xA0;<span class=\"\">19</span>: </pre>\n",
       "<pre class=\"cython line score-0\">&#xA0;<span class=\"\">20</span>:     <span class=\"c\"># declare C types for as many of our variables as possible. note that we</span></pre>\n",
       "<pre class=\"cython line score-0\">&#xA0;<span class=\"\">21</span>:     <span class=\"c\"># don&#39;t necessarily need to assign a value to them at declaration time.</span></pre>\n",
       "<pre class=\"cython line score-0\">&#xA0;<span class=\"\">22</span>:     <span class=\"k\">cdef</span><span class=\"p\">:</span></pre>\n",
       "<pre class=\"cython line score-0\">&#xA0;<span class=\"\">23</span>:         <span class=\"c\"># Py_ssize_t is just a special platform-specific type for indices</span></pre>\n",
       "<pre class=\"cython line score-0\" onclick=\"(function(s){s.display=s.display==='block'?'none':'block'})(this.nextElementSibling.style)\">+<span class=\"\">24</span>:         <span class=\"k\">cdef</span> <span class=\"kt\">Py_ssize_t</span> <span class=\"nf\">n_row</span> <span class=\"o\">=</span> <span class=\"n\">A</span><span class=\"o\">.</span><span class=\"n\">shape</span><span class=\"p\">[</span><span class=\"mf\">0</span><span class=\"p\">]</span></pre>\n",
       "<pre class='cython code score-0 '>  __pyx_v_n_row = (__pyx_v_A.shape[0]);\n",
       "</pre><pre class=\"cython line score-0\" onclick=\"(function(s){s.display=s.display==='block'?'none':'block'})(this.nextElementSibling.style)\">+<span class=\"\">25</span>:         <span class=\"k\">cdef</span> <span class=\"kt\">Py_ssize_t</span> <span class=\"nf\">n_col</span> <span class=\"o\">=</span> <span class=\"n\">A</span><span class=\"o\">.</span><span class=\"n\">shape</span><span class=\"p\">[</span><span class=\"mf\">1</span><span class=\"p\">]</span></pre>\n",
       "<pre class='cython code score-0 '>  __pyx_v_n_col = (__pyx_v_A.shape[1]);\n",
       "</pre><pre class=\"cython line score-0\">&#xA0;<span class=\"\">26</span>:         <span class=\"k\">cdef</span> <span class=\"kt\">Py_ssize_t</span> <span class=\"nf\">i</span><span class=\"p\">,</span> <span class=\"nf\">j</span><span class=\"p\">,</span> <span class=\"nf\">k</span></pre>\n",
       "<pre class=\"cython line score-0\">&#xA0;<span class=\"\">27</span>: </pre>\n",
       "<pre class=\"cython line score-0\">&#xA0;<span class=\"\">28</span>: </pre>\n",
       "<pre class=\"cython line score-51\" onclick=\"(function(s){s.display=s.display==='block'?'none':'block'})(this.nextElementSibling.style)\">+<span class=\"\">29</span>:         <span class=\"k\">cdef</span> <span class=\"kt\">np</span>.<span class=\"kt\">ndarray</span>[<span class=\"kt\">np</span>.<span class=\"nf\">float64_t</span><span class=\"p\">,</span> <span class=\"nf\">ndim</span><span class=\"o\">=</span><span class=\"mf\">2</span><span class=\"p\">]</span> <span class=\"n\">dist_matrix</span> <span class=\"o\">=</span> <span class=\"n\">np</span><span class=\"o\">.</span><span class=\"n\">zeros</span><span class=\"p\">((</span><span class=\"n\">n_row</span><span class=\"p\">,</span> <span class=\"n\">n_row</span><span class=\"p\">),</span> <span class=\"n\">np</span><span class=\"o\">.</span><span class=\"n\">double</span><span class=\"p\">,</span><span class=\"n\">order</span><span class=\"o\">=</span><span class=\"s\">&#39;C&#39;</span><span class=\"p\">)</span></pre>\n",
       "<pre class='cython code score-51 '>  <span class='pyx_c_api'>__Pyx_GetModuleGlobalName</span>(__pyx_t_1, __pyx_n_s_np);<span class='error_goto'> if (unlikely(!__pyx_t_1)) __PYX_ERR(0, 29, __pyx_L1_error)</span>\n",
       "  <span class='refnanny'>__Pyx_GOTREF</span>(__pyx_t_1);\n",
       "  __pyx_t_2 = <span class='pyx_c_api'>__Pyx_PyObject_GetAttrStr</span>(__pyx_t_1, __pyx_n_s_zeros);<span class='error_goto'> if (unlikely(!__pyx_t_2)) __PYX_ERR(0, 29, __pyx_L1_error)</span>\n",
       "  <span class='refnanny'>__Pyx_GOTREF</span>(__pyx_t_2);\n",
       "  <span class='pyx_macro_api'>__Pyx_DECREF</span>(__pyx_t_1); __pyx_t_1 = 0;\n",
       "  __pyx_t_1 = <span class='py_c_api'>PyInt_FromSsize_t</span>(__pyx_v_n_row);<span class='error_goto'> if (unlikely(!__pyx_t_1)) __PYX_ERR(0, 29, __pyx_L1_error)</span>\n",
       "  <span class='refnanny'>__Pyx_GOTREF</span>(__pyx_t_1);\n",
       "  __pyx_t_3 = <span class='py_c_api'>PyInt_FromSsize_t</span>(__pyx_v_n_row);<span class='error_goto'> if (unlikely(!__pyx_t_3)) __PYX_ERR(0, 29, __pyx_L1_error)</span>\n",
       "  <span class='refnanny'>__Pyx_GOTREF</span>(__pyx_t_3);\n",
       "  __pyx_t_4 = <span class='py_c_api'>PyTuple_New</span>(2);<span class='error_goto'> if (unlikely(!__pyx_t_4)) __PYX_ERR(0, 29, __pyx_L1_error)</span>\n",
       "  <span class='refnanny'>__Pyx_GOTREF</span>(__pyx_t_4);\n",
       "  <span class='refnanny'>__Pyx_GIVEREF</span>(__pyx_t_1);\n",
       "  <span class='py_macro_api'>PyTuple_SET_ITEM</span>(__pyx_t_4, 0, __pyx_t_1);\n",
       "  <span class='refnanny'>__Pyx_GIVEREF</span>(__pyx_t_3);\n",
       "  <span class='py_macro_api'>PyTuple_SET_ITEM</span>(__pyx_t_4, 1, __pyx_t_3);\n",
       "  __pyx_t_1 = 0;\n",
       "  __pyx_t_3 = 0;\n",
       "  <span class='pyx_c_api'>__Pyx_GetModuleGlobalName</span>(__pyx_t_3, __pyx_n_s_np);<span class='error_goto'> if (unlikely(!__pyx_t_3)) __PYX_ERR(0, 29, __pyx_L1_error)</span>\n",
       "  <span class='refnanny'>__Pyx_GOTREF</span>(__pyx_t_3);\n",
       "  __pyx_t_1 = <span class='pyx_c_api'>__Pyx_PyObject_GetAttrStr</span>(__pyx_t_3, __pyx_n_s_double);<span class='error_goto'> if (unlikely(!__pyx_t_1)) __PYX_ERR(0, 29, __pyx_L1_error)</span>\n",
       "  <span class='refnanny'>__Pyx_GOTREF</span>(__pyx_t_1);\n",
       "  <span class='pyx_macro_api'>__Pyx_DECREF</span>(__pyx_t_3); __pyx_t_3 = 0;\n",
       "  __pyx_t_3 = <span class='py_c_api'>PyTuple_New</span>(2);<span class='error_goto'> if (unlikely(!__pyx_t_3)) __PYX_ERR(0, 29, __pyx_L1_error)</span>\n",
       "  <span class='refnanny'>__Pyx_GOTREF</span>(__pyx_t_3);\n",
       "  <span class='refnanny'>__Pyx_GIVEREF</span>(__pyx_t_4);\n",
       "  <span class='py_macro_api'>PyTuple_SET_ITEM</span>(__pyx_t_3, 0, __pyx_t_4);\n",
       "  <span class='refnanny'>__Pyx_GIVEREF</span>(__pyx_t_1);\n",
       "  <span class='py_macro_api'>PyTuple_SET_ITEM</span>(__pyx_t_3, 1, __pyx_t_1);\n",
       "  __pyx_t_4 = 0;\n",
       "  __pyx_t_1 = 0;\n",
       "  __pyx_t_1 = <span class='pyx_c_api'>__Pyx_PyDict_NewPresized</span>(1);<span class='error_goto'> if (unlikely(!__pyx_t_1)) __PYX_ERR(0, 29, __pyx_L1_error)</span>\n",
       "  <span class='refnanny'>__Pyx_GOTREF</span>(__pyx_t_1);\n",
       "  if (<span class='py_c_api'>PyDict_SetItem</span>(__pyx_t_1, __pyx_n_s_order, __pyx_n_u_C) &lt; 0) <span class='error_goto'>__PYX_ERR(0, 29, __pyx_L1_error)</span>\n",
       "  __pyx_t_4 = <span class='pyx_c_api'>__Pyx_PyObject_Call</span>(__pyx_t_2, __pyx_t_3, __pyx_t_1);<span class='error_goto'> if (unlikely(!__pyx_t_4)) __PYX_ERR(0, 29, __pyx_L1_error)</span>\n",
       "  <span class='refnanny'>__Pyx_GOTREF</span>(__pyx_t_4);\n",
       "  <span class='pyx_macro_api'>__Pyx_DECREF</span>(__pyx_t_2); __pyx_t_2 = 0;\n",
       "  <span class='pyx_macro_api'>__Pyx_DECREF</span>(__pyx_t_3); __pyx_t_3 = 0;\n",
       "  <span class='pyx_macro_api'>__Pyx_DECREF</span>(__pyx_t_1); __pyx_t_1 = 0;\n",
       "  if (!(likely(((__pyx_t_4) == Py_None) || likely(<span class='pyx_c_api'>__Pyx_TypeTest</span>(__pyx_t_4, __pyx_ptype_5numpy_ndarray))))) <span class='error_goto'>__PYX_ERR(0, 29, __pyx_L1_error)</span>\n",
       "  __pyx_t_5 = ((PyArrayObject *)__pyx_t_4);\n",
       "  {\n",
       "    __Pyx_BufFmt_StackElem __pyx_stack[1];\n",
       "    if (unlikely(<span class='pyx_c_api'>__Pyx_GetBufferAndValidate</span>(&amp;__pyx_pybuffernd_dist_matrix.rcbuffer-&gt;pybuffer, (PyObject*)__pyx_t_5, &amp;__Pyx_TypeInfo_nn___pyx_t_5numpy_float64_t, PyBUF_FORMAT| PyBUF_STRIDES| PyBUF_WRITABLE, 2, 0, __pyx_stack) == -1)) {\n",
       "      __pyx_v_dist_matrix = ((PyArrayObject *)Py_None); <span class='pyx_macro_api'>__Pyx_INCREF</span>(Py_None); __pyx_pybuffernd_dist_matrix.rcbuffer-&gt;pybuffer.buf = NULL;\n",
       "      <span class='error_goto'>__PYX_ERR(0, 29, __pyx_L1_error)</span>\n",
       "    } else {__pyx_pybuffernd_dist_matrix.diminfo[0].strides = __pyx_pybuffernd_dist_matrix.rcbuffer-&gt;pybuffer.strides[0]; __pyx_pybuffernd_dist_matrix.diminfo[0].shape = __pyx_pybuffernd_dist_matrix.rcbuffer-&gt;pybuffer.shape[0]; __pyx_pybuffernd_dist_matrix.diminfo[1].strides = __pyx_pybuffernd_dist_matrix.rcbuffer-&gt;pybuffer.strides[1]; __pyx_pybuffernd_dist_matrix.diminfo[1].shape = __pyx_pybuffernd_dist_matrix.rcbuffer-&gt;pybuffer.shape[1];\n",
       "    }\n",
       "  }\n",
       "  __pyx_t_5 = 0;\n",
       "  __pyx_v_dist_matrix = ((PyArrayObject *)__pyx_t_4);\n",
       "  __pyx_t_4 = 0;\n",
       "</pre><pre class=\"cython line score-0\">&#xA0;<span class=\"\">30</span>: </pre>\n",
       "<pre class=\"cython line score-0\">&#xA0;<span class=\"\">31</span>: </pre>\n",
       "<pre class=\"cython line score-0\">&#xA0;<span class=\"\">32</span>:         <span class=\"k\">cdef</span> <span class=\"kt\">double</span> <span class=\"nf\">temp</span><span class=\"p\">,</span> <span class=\"nf\">diff</span></pre>\n",
       "<pre class=\"cython line score-0\">&#xA0;<span class=\"\">33</span>: </pre>\n",
       "<pre class=\"cython line score-0\">&#xA0;<span class=\"\">34</span>: </pre>\n",
       "<pre class=\"cython line score-0\">&#xA0;<span class=\"\">35</span>: </pre>\n",
       "<pre class=\"cython line score-0\">&#xA0;<span class=\"\">36</span>: </pre>\n",
       "<pre class=\"cython line score-0\">&#xA0;<span class=\"\">37</span>:     <span class=\"c\"># another advantage of using Cython rather than broadcasting is that we can</span></pre>\n",
       "<pre class=\"cython line score-0\">&#xA0;<span class=\"\">38</span>:     <span class=\"c\"># exploit the symmetry of D by only looping over its upper triangle</span></pre>\n",
       "<pre class=\"cython line score-0\">&#xA0;<span class=\"\">39</span>: </pre>\n",
       "<pre class=\"cython line score-4\" onclick=\"(function(s){s.display=s.display==='block'?'none':'block'})(this.nextElementSibling.style)\">+<span class=\"\">40</span>:     <span class=\"k\">for</span> <span class=\"n\">i</span> <span class=\"ow\">in</span> <span class=\"n\">prange</span><span class=\"p\">(</span><span class=\"n\">n_row</span><span class=\"p\">,</span><span class=\"n\">schedule</span><span class=\"o\">=</span><span class=\"s\">&#39;static&#39;</span><span class=\"p\">,</span><span class=\"k\">nogil</span><span class=\"o\">=</span><span class=\"bp\">True</span><span class=\"p\">):</span></pre>\n",
       "<pre class='cython code score-4 '>  {\n",
       "      #ifdef WITH_THREAD\n",
       "      PyThreadState *_save;\n",
       "      Py_UNBLOCK_THREADS\n",
       "      <span class='pyx_c_api'>__Pyx_FastGIL_Remember</span>();\n",
       "      #endif\n",
       "      /*try:*/ {\n",
       "        __pyx_t_6 = __pyx_v_n_row;\n",
       "        if (1 == 0) abort();\n",
       "        {\n",
       "            #if ((defined(__APPLE__) || defined(__OSX__)) &amp;&amp; (defined(__GNUC__) &amp;&amp; (__GNUC__ &gt; 2 || (__GNUC__ == 2 &amp;&amp; (__GNUC_MINOR__ &gt; 95)))))\n",
       "                #undef likely\n",
       "                #undef unlikely\n",
       "                #define likely(x)   (x)\n",
       "                #define unlikely(x) (x)\n",
       "            #endif\n",
       "            __pyx_t_8 = (__pyx_t_6 - 0 + 1 - 1/abs(1)) / 1;\n",
       "            if (__pyx_t_8 &gt; 0)\n",
       "            {\n",
       "                #ifdef _OPENMP\n",
       "                #pragma omp parallel\n",
       "                #endif /* _OPENMP */\n",
       "                {\n",
       "                    #ifdef _OPENMP\n",
       "                    #pragma omp for lastprivate(__pyx_v_diff) firstprivate(__pyx_v_i) lastprivate(__pyx_v_i) lastprivate(__pyx_v_j) lastprivate(__pyx_v_k) lastprivate(__pyx_v_temp) schedule(static)\n",
       "                    #endif /* _OPENMP */\n",
       "                    for (__pyx_t_7 = 0; __pyx_t_7 &lt; __pyx_t_8; __pyx_t_7++){\n",
       "                        {\n",
       "                            __pyx_v_i = (Py_ssize_t)(0 + 1 * __pyx_t_7);\n",
       "                            /* Initialize private variables to invalid values */\n",
       "                            __pyx_v_diff = ((double)__PYX_NAN());\n",
       "                            __pyx_v_j = ((Py_ssize_t)0xbad0bad0);\n",
       "                            __pyx_v_k = ((Py_ssize_t)0xbad0bad0);\n",
       "                            __pyx_v_temp = ((double)__PYX_NAN());\n",
       "/* … */\n",
       "      /*finally:*/ {\n",
       "        /*normal exit:*/{\n",
       "          #ifdef WITH_THREAD\n",
       "          <span class='pyx_c_api'>__Pyx_FastGIL_Forget</span>();\n",
       "          Py_BLOCK_THREADS\n",
       "          #endif\n",
       "          goto __pyx_L5;\n",
       "        }\n",
       "        __pyx_L5:;\n",
       "      }\n",
       "  }\n",
       "</pre><pre class=\"cython line score-0\" onclick=\"(function(s){s.display=s.display==='block'?'none':'block'})(this.nextElementSibling.style)\">+<span class=\"\">41</span>:         <span class=\"k\">for</span> <span class=\"n\">j</span> <span class=\"ow\">in</span> <span class=\"nb\">xrange</span><span class=\"p\">(</span><span class=\"n\">i</span> <span class=\"o\">+</span> <span class=\"mf\">1</span><span class=\"p\">,</span> <span class=\"n\">n_row</span><span class=\"p\">):</span></pre>\n",
       "<pre class='cython code score-0 '>                            __pyx_t_9 = __pyx_v_n_row;\n",
       "                            __pyx_t_10 = __pyx_t_9;\n",
       "                            for (__pyx_t_11 = (__pyx_v_i + 1); __pyx_t_11 &lt; __pyx_t_10; __pyx_t_11+=1) {\n",
       "                              __pyx_v_j = __pyx_t_11;\n",
       "</pre><pre class=\"cython line score-0\" onclick=\"(function(s){s.display=s.display==='block'?'none':'block'})(this.nextElementSibling.style)\">+<span class=\"\">42</span>:             <span class=\"n\">diff</span> <span class=\"o\">=</span> <span class=\"mf\">0</span></pre>\n",
       "<pre class='cython code score-0 '>                              __pyx_v_diff = 0.0;\n",
       "</pre><pre class=\"cython line score-0\" onclick=\"(function(s){s.display=s.display==='block'?'none':'block'})(this.nextElementSibling.style)\">+<span class=\"\">43</span>:             <span class=\"k\">for</span> <span class=\"n\">k</span> <span class=\"ow\">in</span> <span class=\"nb\">xrange</span><span class=\"p\">(</span><span class=\"n\">n_col</span><span class=\"p\">):</span></pre>\n",
       "<pre class='cython code score-0 '>                              __pyx_t_12 = __pyx_v_n_col;\n",
       "                              __pyx_t_13 = __pyx_t_12;\n",
       "                              for (__pyx_t_14 = 0; __pyx_t_14 &lt; __pyx_t_13; __pyx_t_14+=1) {\n",
       "                                __pyx_v_k = __pyx_t_14;\n",
       "</pre><pre class=\"cython line score-0\" onclick=\"(function(s){s.display=s.display==='block'?'none':'block'})(this.nextElementSibling.style)\">+<span class=\"\">44</span>:                 <span class=\"n\">temp</span> <span class=\"o\">=</span> <span class=\"p\">(</span><span class=\"n\">A</span><span class=\"p\">[</span><span class=\"n\">i</span><span class=\"p\">,</span> <span class=\"n\">k</span><span class=\"p\">]</span> <span class=\"o\">-</span> <span class=\"n\">A</span><span class=\"p\">[</span><span class=\"n\">j</span><span class=\"p\">,</span> <span class=\"n\">k</span><span class=\"p\">])</span><span class=\"o\">**</span><span class=\"n\">p</span></pre>\n",
       "<pre class='cython code score-0 '>                                __pyx_t_15 = __pyx_v_i;\n",
       "                                __pyx_t_16 = __pyx_v_k;\n",
       "                                __pyx_t_17 = __pyx_v_j;\n",
       "                                __pyx_t_18 = __pyx_v_k;\n",
       "                                __pyx_v_temp = pow(((*((double *) ( /* dim=1 */ (( /* dim=0 */ (__pyx_v_A.data + __pyx_t_15 * __pyx_v_A.strides[0]) ) + __pyx_t_16 * __pyx_v_A.strides[1]) ))) - (*((double *) ( /* dim=1 */ (( /* dim=0 */ (__pyx_v_A.data + __pyx_t_17 * __pyx_v_A.strides[0]) ) + __pyx_t_18 * __pyx_v_A.strides[1]) )))), ((double)__pyx_v_p));\n",
       "</pre><pre class=\"cython line score-0\" onclick=\"(function(s){s.display=s.display==='block'?'none':'block'})(this.nextElementSibling.style)\">+<span class=\"\">45</span>:                 <span class=\"n\">diff</span><span class=\"o\">+=</span><span class=\"n\">temp</span></pre>\n",
       "<pre class='cython code score-0 '>                                __pyx_v_diff = (__pyx_v_diff + __pyx_v_temp);\n",
       "                              }\n",
       "</pre><pre class=\"cython line score-0\" onclick=\"(function(s){s.display=s.display==='block'?'none':'block'})(this.nextElementSibling.style)\">+<span class=\"\">46</span>:             <span class=\"n\">diff</span> <span class=\"o\">=</span> <span class=\"n\">diff</span><span class=\"o\">**</span><span class=\"p\">(</span><span class=\"mf\">1</span><span class=\"o\">/</span><span class=\"n\">p</span><span class=\"p\">)</span></pre>\n",
       "<pre class='cython code score-0 '>                              __pyx_v_diff = pow(__pyx_v_diff, ((double)(1 / ((long)__pyx_v_p))));\n",
       "</pre><pre class=\"cython line score-0\">&#xA0;<span class=\"\">47</span>: </pre>\n",
       "<pre class=\"cython line score-0\" onclick=\"(function(s){s.display=s.display==='block'?'none':'block'})(this.nextElementSibling.style)\">+<span class=\"\">48</span>:             <span class=\"n\">dist_matrix</span><span class=\"p\">[</span><span class=\"n\">i</span><span class=\"p\">,</span> <span class=\"n\">j</span><span class=\"p\">]</span> <span class=\"o\">=</span> <span class=\"n\">diff</span></pre>\n",
       "<pre class='cython code score-0 '>                              __pyx_t_19 = __pyx_v_i;\n",
       "                              __pyx_t_20 = __pyx_v_j;\n",
       "                              *__Pyx_BufPtrStrided2d(__pyx_t_5numpy_float64_t *, __pyx_pybuffernd_dist_matrix.rcbuffer-&gt;pybuffer.buf, __pyx_t_19, __pyx_pybuffernd_dist_matrix.diminfo[0].strides, __pyx_t_20, __pyx_pybuffernd_dist_matrix.diminfo[1].strides) = __pyx_v_diff;\n",
       "</pre><pre class=\"cython line score-0\" onclick=\"(function(s){s.display=s.display==='block'?'none':'block'})(this.nextElementSibling.style)\">+<span class=\"\">49</span>:             <span class=\"n\">dist_matrix</span><span class=\"p\">[</span><span class=\"n\">j</span><span class=\"p\">,</span> <span class=\"n\">i</span><span class=\"p\">]</span> <span class=\"o\">=</span> <span class=\"n\">diff</span></pre>\n",
       "<pre class='cython code score-0 '>                              __pyx_t_21 = __pyx_v_j;\n",
       "                              __pyx_t_22 = __pyx_v_i;\n",
       "                              *__Pyx_BufPtrStrided2d(__pyx_t_5numpy_float64_t *, __pyx_pybuffernd_dist_matrix.rcbuffer-&gt;pybuffer.buf, __pyx_t_21, __pyx_pybuffernd_dist_matrix.diminfo[0].strides, __pyx_t_22, __pyx_pybuffernd_dist_matrix.diminfo[1].strides) = __pyx_v_diff;\n",
       "                            }\n",
       "                        }\n",
       "                    }\n",
       "                }\n",
       "            }\n",
       "        }\n",
       "        #if ((defined(__APPLE__) || defined(__OSX__)) &amp;&amp; (defined(__GNUC__) &amp;&amp; (__GNUC__ &gt; 2 || (__GNUC__ == 2 &amp;&amp; (__GNUC_MINOR__ &gt; 95)))))\n",
       "            #undef likely\n",
       "            #undef unlikely\n",
       "            #define likely(x)   __builtin_expect(!!(x), 1)\n",
       "            #define unlikely(x) __builtin_expect(!!(x), 0)\n",
       "        #endif\n",
       "      }\n",
       "</pre><pre class=\"cython line score-0\">&#xA0;<span class=\"\">50</span>: </pre>\n",
       "<pre class=\"cython line score-0\">&#xA0;<span class=\"\">51</span>: </pre>\n",
       "<pre class=\"cython line score-0\">&#xA0;<span class=\"\">52</span>: </pre>\n",
       "<pre class=\"cython line score-2\" onclick=\"(function(s){s.display=s.display==='block'?'none':'block'})(this.nextElementSibling.style)\">+<span class=\"\">53</span>:     <span class=\"k\">return</span> <span class=\"n\">dist_matrix</span></pre>\n",
       "<pre class='cython code score-2 '>  __pyx_t_23 = <span class='pyx_c_api'>__Pyx_PyObject_to_MemoryviewSlice_d_dc_double</span>(((PyObject *)__pyx_v_dist_matrix), PyBUF_WRITABLE);<span class='error_goto'> if (unlikely(!__pyx_t_23.memview)) __PYX_ERR(0, 53, __pyx_L1_error)</span>\n",
       "  __pyx_r = __pyx_t_23;\n",
       "  __pyx_t_23.memview = NULL;\n",
       "  __pyx_t_23.data = NULL;\n",
       "  goto __pyx_L0;\n",
       "</pre></div></body></html>"
      ],
      "text/plain": [
       "<IPython.core.display.HTML object>"
      ]
     },
     "execution_count": 5,
     "metadata": {},
     "output_type": "execute_result"
    }
   ],
   "source": [
    "%%cython --annotate\n",
    "\n",
    "\n",
    "import numpy as np\n",
    "cimport numpy as np\n",
    "from cython.parallel import prange,parallel\n",
    "cimport cython\n",
    "\n",
    "@cython.profile(False)\n",
    "@cython.boundscheck(False)\n",
    "@cython.wraparound(False)\n",
    "@cython.initializedcheck(False)\n",
    "@cython.cdivision(True)\n",
    "cpdef double[:, ::1] dist(double [:, :] A, int k_max,int p): #k: number of max k, \n",
    "    '''\n",
    "    A-> matrix\n",
    "    k_max -> max number of neighbors\n",
    "    p-> mikowski distance\n",
    "    '''\n",
    "\n",
    "    # declare C types for as many of our variables as possible. note that we\n",
    "    # don't necessarily need to assign a value to them at declaration time.\n",
    "    cdef:\n",
    "        # Py_ssize_t is just a special platform-specific type for indices\n",
    "        cdef Py_ssize_t n_row = A.shape[0]\n",
    "        cdef Py_ssize_t n_col = A.shape[1]\n",
    "        cdef Py_ssize_t i, j, k\n",
    "        \n",
    "       \n",
    "        cdef np.ndarray[np.float64_t, ndim=2] dist_matrix = np.zeros((n_row, n_row), np.double,order='C')\n",
    "        \n",
    "\n",
    "        cdef double temp, diff\n",
    "        \n",
    "                \n",
    "                \n",
    "\n",
    "    # another advantage of using Cython rather than broadcasting is that we can\n",
    "    # exploit the symmetry of D by only looping over its upper triangle\n",
    "\n",
    "    for i in prange(n_row,schedule='static',nogil=True):\n",
    "        for j in xrange(i + 1, n_row): \n",
    "            diff = 0\n",
    "            for k in xrange(n_col):\n",
    "                temp = (A[i, k] - A[j, k])**p\n",
    "                diff+=temp\n",
    "            diff = diff**(1/p)\n",
    "\n",
    "            dist_matrix[i, j] = diff\n",
    "            dist_matrix[j, i] = diff\n",
    "\n",
    "            \n",
    "\n",
    "    return dist_matrix"
   ]
  },
  {
   "cell_type": "code",
   "execution_count": 6,
   "metadata": {},
   "outputs": [
    {
     "ename": "TypeError",
     "evalue": "dist() takes exactly 3 positional arguments (0 given)",
     "output_type": "error",
     "traceback": [
      "\u001b[0;31m---------------------------------------------------------------------------\u001b[0m",
      "\u001b[0;31mTypeError\u001b[0m                                 Traceback (most recent call last)",
      "\u001b[0;32m<ipython-input-6-8ae4d5b8db3c>\u001b[0m in \u001b[0;36m<module>\u001b[0;34m\u001b[0m\n\u001b[0;32m----> 1\u001b[0;31m \u001b[0mdist\u001b[0m\u001b[0;34m(\u001b[0m\u001b[0;34m)\u001b[0m\u001b[0;34m\u001b[0m\u001b[0;34m\u001b[0m\u001b[0m\n\u001b[0m",
      "\u001b[0;32m_cython_magic_2514039c33592d640b59325824c443bc.pyx\u001b[0m in \u001b[0;36m_cython_magic_2514039c33592d640b59325824c443bc.dist\u001b[0;34m()\u001b[0m\n",
      "\u001b[0;31mTypeError\u001b[0m: dist() takes exactly 3 positional arguments (0 given)"
     ]
    }
   ],
   "source": []
  },
  {
   "cell_type": "code",
   "execution_count": null,
   "metadata": {},
   "outputs": [],
   "source": [
    "x_train_big = pd.read_csv('MNIST_train.csv',dtype=np.double,).values"
   ]
  },
  {
   "cell_type": "code",
   "execution_count": 18,
   "metadata": {},
   "outputs": [
    {
     "ename": "NameError",
     "evalue": "name 'dist' is not defined",
     "output_type": "error",
     "traceback": [
      "\u001b[0;31m---------------------------------------------------------------------------\u001b[0m",
      "\u001b[0;31mNameError\u001b[0m                                 Traceback (most recent call last)",
      "\u001b[0;32m<timed exec>\u001b[0m in \u001b[0;36m<module>\u001b[0;34m\u001b[0m\n",
      "\u001b[0;31mNameError\u001b[0m: name 'dist' is not defined"
     ]
    }
   ],
   "source": [
    "%time distances = dist(x_train_c,10,2)\n",
    "#savetxt('train_dist.csv', distances, delimiter=',')"
   ]
  },
  {
   "cell_type": "code",
   "execution_count": null,
   "metadata": {},
   "outputs": [],
   "source": [
    "from numpy import savetxt\n",
    "from numpy import loadtxt"
   ]
  },
  {
   "cell_type": "code",
   "execution_count": null,
   "metadata": {},
   "outputs": [],
   "source": []
  },
  {
   "cell_type": "code",
   "execution_count": null,
   "metadata": {},
   "outputs": [],
   "source": [
    "tx= loadtxt('train_dist.csv',delimiter=',')"
   ]
  },
  {
   "cell_type": "code",
   "execution_count": null,
   "metadata": {},
   "outputs": [],
   "source": []
  },
  {
   "cell_type": "code",
   "execution_count": 12,
   "metadata": {
    "colab": {},
    "colab_type": "code",
    "id": "CqldRDUUfyIA"
   },
   "outputs": [],
   "source": [
    "def imageFilter(data,method):\n",
    "    '''\n",
    "    Preprocessing:\n",
    "    data -> np.array image or datasets of images\n",
    "    method:\n",
    "        1. Gaussian:  a Gaussian kernel is used: Gaussian filtering is highly effective in removing Gaussian noise from the image.\n",
    "        2. Median: median of all the pixels under the kernel window and the central pixel \n",
    "        is replaced with this median value.\n",
    "    \n",
    "    '''\n",
    "    if method == 'gaussian':\n",
    "        return np.apply_along_axis(lambda img: cv2.GaussianBlur(img.astype(dtype=np.uint8).reshape(28,-1),(5,5),0).flatten(),1,data)\n",
    "    if method =='averaging':\n",
    "        kernel = np.ones((5,5),np.float32)/25\n",
    "        return np.apply_along_axis(lambda img: cv2.filter2D(img.astype(dtype=np.uint8).reshape(28,-1),-1,kernel).flatten(),1,data)"
   ]
  },
  {
   "cell_type": "code",
   "execution_count": 13,
   "metadata": {},
   "outputs": [],
   "source": [
    "# mathematical functions\n",
    "def mode(array):\n",
    "    '''\n",
    "    In case of ties we are choosing the value of the nearest neighbor:\n",
    "    that is because .argmax() return the first item encountered in the array,\n",
    "    that will be by definition the nearest one\n",
    "    '''\n",
    "    val, cnts = np.unique(array, return_counts=True)\n",
    "    return val[cnts.argmax()], cnts.max()\n",
    "\n",
    "def manhattan_matrix(X1, X2, p=0):\n",
    "    return distance.cdist(X1, X2, 'cityblock')\n",
    "\n",
    "def chebyshev_matrix(X1, X2, p=0):\n",
    "    return distance.cdist(X1, X2, 'chebyshev')\n",
    "\n",
    "def mahalanobis_matrix(X1, X2, p=0):\n",
    "    return distance.cdist(X1, X2, 'mahalanobis', VI=None)\n",
    "\n",
    "def cosine_dist(X1, X2, p=0):\n",
    "    mat = np.dot(np.array(X2).T,np.array(X1))\n",
    "    return 2 - 2*mat.T\n",
    "\n",
    "def minkowski_dist(v, w, p = 2):\n",
    "    D = np.abs(np.subtract(w, v))\n",
    "    Dp = np.power(D, p)\n",
    "    distance_vals = np.sum(Dp, axis = 0)\n",
    "    distance_vals_p = np.power(distance_vals, 1 / p)\n",
    "    return distance_vals_p"
   ]
  },
  {
   "cell_type": "code",
   "execution_count": 14,
   "metadata": {
    "colab": {},
    "colab_type": "code",
    "id": "T-Fj8w66cKFp"
   },
   "outputs": [],
   "source": [
    "\n",
    "class KNN():\n",
    "\n",
    "    # Initialization and printing functions\n",
    "    def __init__(self,  p=2, distance='minkowski', distance_f=minkowski_dist):\n",
    "        self.p = p\n",
    "        self.distance_f = distance_f\n",
    "        if(distance=='manhattan'):\n",
    "            self.distance = 'manhattan'\n",
    "            self.distance_matrix = manhattan_matrix\n",
    "        elif(distance=='chebyshev'):\n",
    "            self.distance = 'chebyshev'\n",
    "            self.distance_matrix = chebyshev_matrix\n",
    "        else:\n",
    "            self.distance = 'minkowski'\n",
    "            self.distance_matrix = distance_matrix\n",
    "        pass\n",
    "\n",
    "    # fit --> create distance matrix\n",
    "    def fit(self, X, y, k_max, fast=False, p_array=[2] ):\n",
    "        \"\"\"\n",
    "        Fit on training data\n",
    "\n",
    "        X: x_train dataset\n",
    "        Y: y_train\n",
    "        fast: skip the computation of the pairwise distance matrix\n",
    "        \"\"\"\n",
    "        self.x_train = X\n",
    "        self.y_train = y\n",
    "        self.n_training = X.shape[0]\n",
    "        self.classes = np.unique(y)\n",
    "        if not fast:\n",
    "            \n",
    "            #self.dist_mtx = self.distance_matrix(X, X, p=self.p)\n",
    "            self.k_neigh_mtx = self.create_k_matrix(k_max)\n",
    "            \n",
    "            #only for paolo's version\n",
    "            self.k_neigh_mtx = self.k_neigh_mtx.reshape(self.k_neigh_mtx.shape[0], self.k_neigh_mtx.shape[1])\n",
    "\n",
    "        pass\n",
    "\n",
    "    def __str__(self):\n",
    "        return 'Knn with distance parameter p = {}'.format(self.p)\n",
    "\n",
    "    def __repr__(self):\n",
    "        return self.__str__()\n",
    "\n",
    "    def loss(self, y1, y2):\n",
    "        return y1 != y2\n",
    "\n",
    "    def create_k_matrix(self, k):\n",
    "        '''\n",
    "        Reduce the matrix for the cross validation by considering only k smallest values\n",
    "        k: max value for the neighbor\n",
    "\n",
    "        '''\n",
    "        #Mark version\n",
    "        '''distance_dict = pd.DataFrame()\n",
    "        for image_inx, image_image in tqdm(self.x_train.iterrows(), total = self.x_train.shape[0], position=0, leave=True):\n",
    "            image_list_matrix = np.asarray(self.x_train).T\n",
    "            image_single_matrix = np.asarray(image_image).reshape(self.x_train.shape[1], 1)   \n",
    "            dist = self.distance_f(image_list_matrix, image_single_matrix)      \n",
    "            dist_label = np.c_[dist, self.y_train]  # append the training labels: [distance, label]\n",
    "            dist_label_sort = dist_label[dist_label[:, 0].argsort(kind = 'quicksort')]  # sort the distances\n",
    "            first_k_labels = dist_label_sort[:k, 1]\n",
    "            distance_dict[int(image_inx)] = first_k_labels\n",
    "        return np.array(distance_dict).T\n",
    "        '''\n",
    "\n",
    "        #Paolo\n",
    "        return np.apply_along_axis(lambda x: np.argsort(self.distance_matrix(self.x_train.values, [x], p=self.p), axis=0)[:k],1, self.x_train.values)\n",
    "        \n",
    "        #return np.apply_along_axis(lambda x: np.argsort(x)[:k], 1, self.dist_mtx)\n",
    "\n",
    "    def cross_validate(self, k, n_fold='loocv'):\n",
    "        \"\"\"\n",
    "        k_max : number of maximum to consider\n",
    "        n_fold : fold of cross validation.\n",
    "          if n_fold='loocv' it will just use the leave-one-out cross validation where n_fold= # training samples\n",
    "        \"\"\"\n",
    "\n",
    "        if n_fold == 'loocv':\n",
    "            loss_ipk = [self.predict_train(i, k) for i in range(self.n_training)]\n",
    "            loss_cv = np.mean(loss_ipk, axis=0)\n",
    "        return loss_cv\n",
    "    \n",
    "\n",
    "    def predict_train(self, i, k):\n",
    "        \n",
    "        #Mark\n",
    "        #y_pred = mode(self.k_neigh_mtx[i, 1:(k+1)])[0]\n",
    "        \n",
    "        #Paolo\n",
    "        y_pred = mode(self.y_train[self.k_neigh_mtx[i, 1:(k+1)]])[0]        \n",
    "        \n",
    "        return self.loss(y_pred, self.y_train[i])\n",
    "\n",
    "    def predict(self, x_test, k_array):\n",
    "        \"\"\"\n",
    "        Predict class for the given observation\n",
    "        x_test: new observations to predict\n",
    "        k_array: array of k number of neighbors to consider\n",
    "        \"\"\"\n",
    "        #NOT COMPUTING ENTIRE MATRIX\n",
    "        kmax_neigh = np.apply_along_axis(\n",
    "            lambda x: np.argsort(self.distance_matrix(self.x_train.values, [x],  p=self.p), axis=0)[:np.max(k_array)],1, x_test)\n",
    "        kmax_neigh = np.squeeze(kmax_neigh, axis=2)\n",
    "\n",
    "        return [np.apply_along_axis(lambda neigh: mode(self.y_train[neigh[:k]])[0], 1, kmax_neigh) for k in k_array]\n",
    "                \n",
    "        #COMPUTING ENTIRE MATRIX\n",
    "        #distances = self.distance_matrix(x_test, self.x_train, p=self.p)\n",
    "        #neighbors = np.apply_along_axis(lambda x: np.argsort(x), 1, distances)[:, :np.max(k_array)]\n",
    "        #return [np.apply_along_axis(lambda neigh: mode(self.y_train[neigh[:k]])[0], 1, neighbors) for k in k_array]\n",
    "        \n",
    "    def compute_loss(self, x_test, y_test, k_array):\n",
    "        \"\"\"\n",
    "        Score function: predict the values and compare to the real values given\n",
    "        x_test: input value to predict\n",
    "        y_test: real value of output\n",
    "        k_array: array of k number of neihbors to consider\n",
    "        \"\"\"\n",
    "        predictions = self.predict(x_test, k_array)\n",
    "        losses = [self.loss(predictions[kidx],y_test).sum()/y_test.shape[0] for kidx, k in enumerate(k_array)]\n",
    "        return dict(zip(k_array, losses))"
   ]
  },
  {
   "cell_type": "code",
   "execution_count": null,
   "metadata": {},
   "outputs": [],
   "source": []
  },
  {
   "cell_type": "code",
   "execution_count": null,
   "metadata": {
    "colab": {},
    "colab_type": "code",
    "id": "yOnQQowZXpJm"
   },
   "outputs": [],
   "source": [
    "#(a)\n",
    "knn_a = KNN()\n",
    "knn_a.fit(x_train,y_train, k_max=20)\n",
    "train_loss = knn_a.score(x_train, y_train, np.arange(1,21))\n",
    "test_loss = knn_a.score(x_test, y_test, np.aran2ge(1,21))\n",
    "\n",
    "print(\"train loss:\", np.array([train_loss[k] for k in train_loss]).mean())\n",
    "print(\"test loss:\", np.array([test_loss[k] for k in test_loss]).mean())"
   ]
  },
  {
   "cell_type": "code",
   "execution_count": null,
   "metadata": {
    "colab": {
     "base_uri": "https://localhost:8080/",
     "height": 295
    },
    "colab_type": "code",
    "id": "AjPXzmMNxqBt",
    "outputId": "0d4a1d74-6ed0-4c44-ff46-813fdbeee198"
   },
   "outputs": [],
   "source": [
    "#plot train_score and test_score\n",
    "plt.xlabel('K')\n",
    "plt.ylabel('Empirical loss')\n",
    "plt.plot(*zip(*sorted(train_loss.items())), label=\"Train set\")\n",
    "plt.plot(*zip(*sorted(test_loss.items())), label=\"Test set\")\n",
    "plt.legend()\n",
    "plt.show()"
   ]
  },
  {
   "cell_type": "code",
   "execution_count": null,
   "metadata": {},
   "outputs": [],
   "source": []
  },
  {
   "cell_type": "code",
   "execution_count": null,
   "metadata": {
    "colab": {},
    "colab_type": "code",
    "id": "xUblRI0c0zsD"
   },
   "outputs": [],
   "source": [
    "#(b)\n",
    "knn_b = KNN()\n",
    "knn_b.fit(x_train,y_train, k_max=20) \n",
    "k_array = np.arange(1,21)\n",
    "train_loss = dict(zip(k_array, [knn_b.cross_validate(k) for k in k_array]))\n",
    "test_loss = knn_b.compute_loss(x_test, y_test, np.arange(1,21)) # We don't need to recompute it (computed in (a))"
   ]
  },
  {
   "cell_type": "code",
   "execution_count": null,
   "metadata": {},
   "outputs": [],
   "source": [
    "test_loss = knn_b.compute_loss(x_test, y_test, np.arange(1,21)) # We don't need to recompute it (computed in (a))"
   ]
  },
  {
   "cell_type": "code",
   "execution_count": null,
   "metadata": {
    "colab": {},
    "colab_type": "code",
    "id": "K4kPUWkX0FDV",
    "outputId": "6a8713d8-61b8-4f84-f2e4-a6f8f891e471"
   },
   "outputs": [],
   "source": [
    "print(\"train loss:\", np.array([train_loss[k] for k in train_loss]).mean())\n",
    "print(\"test loss:\", np.array([test_loss[k] for k in test_loss]).mean())"
   ]
  },
  {
   "cell_type": "code",
   "execution_count": null,
   "metadata": {
    "colab": {
     "base_uri": "https://localhost:8080/",
     "height": 227
    },
    "colab_type": "code",
    "id": "Beihs5O16z9L",
    "outputId": "4313b9e2-a1d3-41f2-967c-a7deed3ef852"
   },
   "outputs": [],
   "source": [
    "#plot train_score_crossVal and test_score\n",
    "plt.xlabel('K')\n",
    "plt.ylabel('Empirical loss')\n",
    "plt.plot(*zip(*sorted(train_loss.items())), label=\"Train set\")\n",
    "plt.plot(*zip(*sorted(test_loss.items())), label=\"Test set\")\n",
    "plt.legend()\n",
    "plt.show()"
   ]
  },
  {
   "cell_type": "code",
   "execution_count": null,
   "metadata": {
    "colab": {},
    "colab_type": "code",
    "id": "e-BAr9AAdert"
   },
   "outputs": [],
   "source": [
    "#(c)\n",
    "crossValScore = []\n",
    "for p in np.arange(1,16):\n",
    "    knn_c = KNN(p=p)\n",
    "    knn_c.fit(x_train,y_train, k_max=20)\n",
    "    k_array = np.arange(1,21)\n",
    "    crossValScore.append(dict(zip(k_array, [knn_c.cross_validate(k) for k in k_array])))\n",
    "crossValScore = pd.DataFrame(crossValScore)\n",
    "    "
   ]
  },
  {
   "cell_type": "code",
   "execution_count": null,
   "metadata": {
    "colab": {},
    "colab_type": "code",
    "id": "rMGlC1Q30FDh",
    "outputId": "6c0f0d17-2136-4d37-fbff-af4604c4ae20"
   },
   "outputs": [],
   "source": [
    "fig, ax = plt.subplots(figsize=(12,12))  \n",
    "sns.heatmap(crossValScore, ax=ax, xticklabels=np.arange(1,21), yticklabels=np.arange(1,16))"
   ]
  },
  {
   "cell_type": "code",
   "execution_count": null,
   "metadata": {
    "colab": {},
    "colab_type": "code",
    "id": "_ZVkHnMiJcow"
   },
   "outputs": [],
   "source": [
    "knn_d_euclidean = KNN()\n",
    "knn_d_euclidean.fit(x_train, y_train, k_max=20)\n",
    "k_array = np.arange(2,21)\n",
    "crossValScore_euclidean = dict(zip(k_array, [knn_d_euclidean.cross_validate(k) for k in k_array]))\n",
    "\n",
    "knn_d_manhattan = KNN(distance='manhattan')\n",
    "knn_d_manhattan.fit(x_train, y_train, k_max=20)\n",
    "k_array = np.arange(2,21)\n",
    "crossValScore_manhattan = dict(zip(k_array, [knn_d_manhattan.cross_validate(k) for k in k_array]))\n",
    "\n",
    "knn_d_chebyshev = KNN(distance='chebyshev')\n",
    "knn_d_chebyshev.fit(x_train, y_train, k_max=20)\n",
    "k_array = np.arange(2,21)\n",
    "crossValScore_chebyshev = dict(zip(k_array, [knn_d_chebyshev.cross_validate(k) for k in k_array]))\n"
   ]
  },
  {
   "cell_type": "code",
   "execution_count": null,
   "metadata": {
    "colab": {},
    "colab_type": "code",
    "id": "iJdMFJkxRvmR"
   },
   "outputs": [],
   "source": [
    "df = pd.DataFrame([crossValScore_euclidean, crossValScore_manhattan, crossValScore_chebyshev])\n",
    "\n",
    "# Draw a heatmap with the numeric values in each cell\n",
    "f, ax = plt.subplots(figsize=(13, 4))\n",
    "sns.heatmap(df, annot=True, linewidths=.5, ax=ax,\n",
    "            yticklabels=['euclidean', 'manhattan', 'chebyshev'])"
   ]
  },
  {
   "cell_type": "code",
   "execution_count": null,
   "metadata": {
    "colab": {},
    "colab_type": "code",
    "id": "ExiuOUI0oCtI"
   },
   "outputs": [],
   "source": []
  },
  {
   "cell_type": "markdown",
   "metadata": {
    "colab_type": "text",
    "id": "CtdWKjDsoC7i"
   },
   "source": [
    "## Preprocessing with different filters\n"
   ]
  },
  {
   "cell_type": "code",
   "execution_count": 24,
   "metadata": {},
   "outputs": [],
   "source": [
    "import cv2"
   ]
  },
  {
   "cell_type": "code",
   "execution_count": 25,
   "metadata": {
    "colab": {
     "base_uri": "https://localhost:8080/",
     "height": 240
    },
    "colab_type": "code",
    "id": "rk8vXewcoH5T",
    "outputId": "a374a37b-3895-47c7-93e9-f4b6df1569a2"
   },
   "outputs": [],
   "source": [
    "\n",
    "train_gaussian = pd.DataFrame(imageFilter(x_train_n,'gaussian'))\n",
    "train_averaging = pd.DataFrame(imageFilter(x_train_n,'averaging'))\n"
   ]
  },
  {
   "cell_type": "code",
   "execution_count": null,
   "metadata": {},
   "outputs": [],
   "source": []
  },
  {
   "cell_type": "code",
   "execution_count": 15,
   "metadata": {},
   "outputs": [
    {
     "name": "stdout",
     "output_type": "stream",
     "text": [
      "Normalized data: 820.6088969707489\n",
      "Not normalized  data: 166.13432693481445\n"
     ]
    }
   ],
   "source": [
    "knn = KNN(p=11)\n",
    "k_array = np.arange(1,21)\n",
    "\n",
    "x_train_n = pd.DataFrame(MinMaxScaler().fit_transform(x_train))\n",
    "\n",
    "start = time.time()\n",
    "knn.fit(x_train_n, y_train, k_max=20)\n",
    "norm_score = dict(zip(k_array, [knn.cross_validate(k) for k in k_array]))\n",
    "print('Normalized data:',time.time()-start)\n",
    "\n",
    "\n",
    "start = time.time()\n",
    "knn.fit(x_train, y_train, k_max=20)\n",
    "score = dict(zip(k_array, [knn.cross_validate(k) for k in k_array]))\n",
    "print('Not normalized  data:',time.time()-start)"
   ]
  },
  {
   "cell_type": "code",
   "execution_count": 21,
   "metadata": {},
   "outputs": [
    {
     "data": {
      "image/png": "[encoded data removed]",
      "text/plain": [
       "<Figure size 432x288 with 2 Axes>"
      ]
     },
     "metadata": {
      "needs_background": "light"
     },
     "output_type": "display_data"
    }
   ],
   "source": [
    "\n",
    "fig,(ax1,ax2) = plt.subplots(nrows=1,ncols=2,sharey=True)\n",
    "ax1.set_title('Scaled data in range [0,1]')\n",
    "ax1.plot(*zip(*sorted(norm_score.items())), label=\"Normalization\")\n",
    "\n",
    "ax2.set_title('Not scaled data')\n",
    "ax2.plot(*zip(*sorted(score.items())), label=\"default data values\")\n",
    "\n",
    "plt.xlabel('K values')\n",
    "plt.ylabel('Loss')\n",
    "fig.suptitle('Scaled vs Not scaled data ')\n",
    "plt.savefig('scaledvsnot.jpg')\n",
    "plt.show()"
   ]
  },
  {
   "cell_type": "code",
   "execution_count": 138,
   "metadata": {
    "colab": {},
    "colab_type": "code",
    "id": "bKlN9yjpoRph"
   },
   "outputs": [
    {
     "name": "stdout",
     "output_type": "stream",
     "text": [
      "GaussianBlurring preprocessing: 116.57270216941833\n",
      "Averaging kernel preprocessing: 127.65520691871643\n",
      "No preprocessing: 152.90850019454956\n"
     ]
    }
   ],
   "source": [
    "knn = KNN(p=11)\n",
    "k_array = np.arange(2,21)\n",
    "\n",
    "start = time.time()\n",
    "knn.fit(train_gaussian, y_train, k_max=20)\n",
    "score_gaussian = dict(zip(k_array, [knn.cross_validate(k) for k in k_array]))\n",
    "print('GaussianBlurring preprocessing:',time.time()-start)\n",
    "\n",
    "\n",
    "start = time.time()\n",
    "knn.fit(train_averaging, y_train, k_max=20)\n",
    "score_median = dict(zip(k_array, [knn.cross_validate(k) for k in k_array]))\n",
    "print('Averaging kernel preprocessing:',time.time()-start)\n",
    "\n",
    "start = time.time()\n",
    "knn.fit(x_train, y_train, k_max=20)\n",
    "score_normal = dict(zip(k_array, [knn.cross_validate(k) for k in k_array]))\n",
    "print('No preprocessing:',time.time()-start)\n"
   ]
  },
  {
   "cell_type": "markdown",
   "metadata": {},
   "source": [
    "from skimage.color import rgb2gray\n",
    "img = x_train.iloc[0].to_numpy().reshape(28,-1)\n",
    "\n",
    "\n",
    "img =  img[:,:,np.newaxis]\n",
    "img.reshape(28,28,3)"
   ]
  },
  {
   "cell_type": "code",
   "execution_count": 58,
   "metadata": {},
   "outputs": [
    {
     "data": {
      "text/plain": [
       "(28, 28, 1)"
      ]
     },
     "execution_count": 58,
     "metadata": {},
     "output_type": "execute_result"
    }
   ],
   "source": [
    "from skimage.color import rgb2gray\n",
    "img = x_train.iloc[0].to_numpy().reshape(28,-1)\n",
    "#\n",
    "np.atleast_3d(img).shape\n"
   ]
  },
  {
   "cell_type": "code",
   "execution_count": 51,
   "metadata": {},
   "outputs": [
    {
     "ename": "ValueError",
     "evalue": "the input array must be have a shape == (.., ..,[ ..,] 3)), got (28, 28, 1)",
     "output_type": "error",
     "traceback": [
      "\u001b[0;31m---------------------------------------------------------------------------\u001b[0m",
      "\u001b[0;31mValueError\u001b[0m                                Traceback (most recent call last)",
      "\u001b[0;32m<ipython-input-51-4b5adf2ecf07>\u001b[0m in \u001b[0;36m<module>\u001b[0;34m\u001b[0m\n\u001b[0;32m----> 1\u001b[0;31m \u001b[0mrgb2gray\u001b[0m\u001b[0;34m(\u001b[0m\u001b[0mimg\u001b[0m\u001b[0;34m)\u001b[0m\u001b[0;34m\u001b[0m\u001b[0;34m\u001b[0m\u001b[0m\n\u001b[0m",
      "\u001b[0;32m/opt/anaconda3/envs/UNI/lib/python3.7/site-packages/skimage/color/colorconv.py\u001b[0m in \u001b[0;36mrgb2gray\u001b[0;34m(rgb)\u001b[0m\n\u001b[1;32m    790\u001b[0m         \u001b[0;32mreturn\u001b[0m \u001b[0mnp\u001b[0m\u001b[0;34m.\u001b[0m\u001b[0mascontiguousarray\u001b[0m\u001b[0;34m(\u001b[0m\u001b[0mrgb\u001b[0m\u001b[0;34m)\u001b[0m\u001b[0;34m\u001b[0m\u001b[0;34m\u001b[0m\u001b[0m\n\u001b[1;32m    791\u001b[0m \u001b[0;34m\u001b[0m\u001b[0m\n\u001b[0;32m--> 792\u001b[0;31m     \u001b[0mrgb\u001b[0m \u001b[0;34m=\u001b[0m \u001b[0m_prepare_colorarray\u001b[0m\u001b[0;34m(\u001b[0m\u001b[0mrgb\u001b[0m\u001b[0;34m[\u001b[0m\u001b[0;34m...\u001b[0m\u001b[0;34m,\u001b[0m \u001b[0;34m:\u001b[0m\u001b[0;36m3\u001b[0m\u001b[0;34m]\u001b[0m\u001b[0;34m)\u001b[0m\u001b[0;34m\u001b[0m\u001b[0;34m\u001b[0m\u001b[0m\n\u001b[0m\u001b[1;32m    793\u001b[0m     \u001b[0mcoeffs\u001b[0m \u001b[0;34m=\u001b[0m \u001b[0mnp\u001b[0m\u001b[0;34m.\u001b[0m\u001b[0marray\u001b[0m\u001b[0;34m(\u001b[0m\u001b[0;34m[\u001b[0m\u001b[0;36m0.2125\u001b[0m\u001b[0;34m,\u001b[0m \u001b[0;36m0.7154\u001b[0m\u001b[0;34m,\u001b[0m \u001b[0;36m0.0721\u001b[0m\u001b[0;34m]\u001b[0m\u001b[0;34m,\u001b[0m \u001b[0mdtype\u001b[0m\u001b[0;34m=\u001b[0m\u001b[0mrgb\u001b[0m\u001b[0;34m.\u001b[0m\u001b[0mdtype\u001b[0m\u001b[0;34m)\u001b[0m\u001b[0;34m\u001b[0m\u001b[0;34m\u001b[0m\u001b[0m\n\u001b[1;32m    794\u001b[0m     \u001b[0;32mreturn\u001b[0m \u001b[0mrgb\u001b[0m \u001b[0;34m@\u001b[0m \u001b[0mcoeffs\u001b[0m\u001b[0;34m\u001b[0m\u001b[0;34m\u001b[0m\u001b[0m\n",
      "\u001b[0;32m/opt/anaconda3/envs/UNI/lib/python3.7/site-packages/skimage/color/colorconv.py\u001b[0m in \u001b[0;36m_prepare_colorarray\u001b[0;34m(arr)\u001b[0m\n\u001b[1;32m    143\u001b[0m         msg = (\"the input array must be have a shape == (.., ..,[ ..,] 3)), \" +\n\u001b[1;32m    144\u001b[0m                \"got (\" + (\", \".join(map(str, arr.shape))) + \")\")\n\u001b[0;32m--> 145\u001b[0;31m         \u001b[0;32mraise\u001b[0m \u001b[0mValueError\u001b[0m\u001b[0;34m(\u001b[0m\u001b[0mmsg\u001b[0m\u001b[0;34m)\u001b[0m\u001b[0;34m\u001b[0m\u001b[0;34m\u001b[0m\u001b[0m\n\u001b[0m\u001b[1;32m    146\u001b[0m \u001b[0;34m\u001b[0m\u001b[0m\n\u001b[1;32m    147\u001b[0m     \u001b[0;32mreturn\u001b[0m \u001b[0mdtype\u001b[0m\u001b[0;34m.\u001b[0m\u001b[0mimg_as_float\u001b[0m\u001b[0;34m(\u001b[0m\u001b[0marr\u001b[0m\u001b[0;34m)\u001b[0m\u001b[0;34m\u001b[0m\u001b[0;34m\u001b[0m\u001b[0m\n",
      "\u001b[0;31mValueError\u001b[0m: the input array must be have a shape == (.., ..,[ ..,] 3)), got (28, 28, 1)"
     ]
    }
   ],
   "source": [
    "rgb2gray(img)"
   ]
  },
  {
   "cell_type": "code",
   "execution_count": 129,
   "metadata": {},
   "outputs": [],
   "source": [
    "from sklearn.preprocessing import Normalizer"
   ]
  },
  {
   "cell_type": "code",
   "execution_count": 140,
   "metadata": {},
   "outputs": [
    {
     "data": {
      "text/plain": [
       "{2: 0.8899633211070357,\n",
       " 3: 0.8899633211070357,\n",
       " 4: 0.8936312104034678,\n",
       " 5: 0.8936312104034678,\n",
       " 6: 0.8936312104034678,\n",
       " 7: 0.8936312104034678,\n",
       " 8: 0.8899633211070357,\n",
       " 9: 0.8899633211070357,\n",
       " 10: 0.8899633211070357,\n",
       " 11: 0.8826275425141714,\n",
       " 12: 0.8922974324774925,\n",
       " 13: 0.8922974324774925,\n",
       " 14: 0.8922974324774925,\n",
       " 15: 0.8936312104034678,\n",
       " 16: 0.8936312104034678,\n",
       " 17: 0.8936312104034678,\n",
       " 18: 0.8936312104034678,\n",
       " 19: 0.8936312104034678,\n",
       " 20: 0.8936312104034678}"
      ]
     },
     "execution_count": 140,
     "metadata": {},
     "output_type": "execute_result"
    }
   ],
   "source": [
    "score_gaussian"
   ]
  },
  {
   "cell_type": "code",
   "execution_count": 22,
   "metadata": {
    "colab": {},
    "colab_type": "code",
    "id": "RFCSKhtBoW72"
   },
   "outputs": [
    {
     "ename": "NameError",
     "evalue": "name 'score_gaussian' is not defined",
     "output_type": "error",
     "traceback": [
      "\u001b[0;31m---------------------------------------------------------------------------\u001b[0m",
      "\u001b[0;31mNameError\u001b[0m                                 Traceback (most recent call last)",
      "\u001b[0;32m<ipython-input-22-ffd5d8a4dd80>\u001b[0m in \u001b[0;36m<module>\u001b[0;34m\u001b[0m\n\u001b[1;32m      3\u001b[0m \u001b[0mplt\u001b[0m\u001b[0;34m.\u001b[0m\u001b[0mxlabel\u001b[0m\u001b[0;34m(\u001b[0m\u001b[0;34m'K values'\u001b[0m\u001b[0;34m)\u001b[0m\u001b[0;34m\u001b[0m\u001b[0;34m\u001b[0m\u001b[0m\n\u001b[1;32m      4\u001b[0m \u001b[0mplt\u001b[0m\u001b[0;34m.\u001b[0m\u001b[0mylabel\u001b[0m\u001b[0;34m(\u001b[0m\u001b[0;34m'Loss'\u001b[0m\u001b[0;34m)\u001b[0m\u001b[0;34m\u001b[0m\u001b[0;34m\u001b[0m\u001b[0m\n\u001b[0;32m----> 5\u001b[0;31m \u001b[0mplt\u001b[0m\u001b[0;34m.\u001b[0m\u001b[0mplot\u001b[0m\u001b[0;34m(\u001b[0m\u001b[0;34m*\u001b[0m\u001b[0mzip\u001b[0m\u001b[0;34m(\u001b[0m\u001b[0;34m*\u001b[0m\u001b[0msorted\u001b[0m\u001b[0;34m(\u001b[0m\u001b[0mscore_gaussian\u001b[0m\u001b[0;34m.\u001b[0m\u001b[0mitems\u001b[0m\u001b[0;34m(\u001b[0m\u001b[0;34m)\u001b[0m\u001b[0;34m)\u001b[0m\u001b[0;34m)\u001b[0m\u001b[0;34m,\u001b[0m \u001b[0mlabel\u001b[0m\u001b[0;34m=\u001b[0m\u001b[0;34m\"GaussianBlurring\"\u001b[0m\u001b[0;34m)\u001b[0m\u001b[0;34m\u001b[0m\u001b[0;34m\u001b[0m\u001b[0m\n\u001b[0m\u001b[1;32m      6\u001b[0m \u001b[0mplt\u001b[0m\u001b[0;34m.\u001b[0m\u001b[0mplot\u001b[0m\u001b[0;34m(\u001b[0m\u001b[0;34m*\u001b[0m\u001b[0mzip\u001b[0m\u001b[0;34m(\u001b[0m\u001b[0;34m*\u001b[0m\u001b[0msorted\u001b[0m\u001b[0;34m(\u001b[0m\u001b[0mscore_median\u001b[0m\u001b[0;34m.\u001b[0m\u001b[0mitems\u001b[0m\u001b[0;34m(\u001b[0m\u001b[0;34m)\u001b[0m\u001b[0;34m)\u001b[0m\u001b[0;34m)\u001b[0m\u001b[0;34m,\u001b[0m \u001b[0mlabel\u001b[0m\u001b[0;34m=\u001b[0m\u001b[0;34m\"Averaging Kernel\"\u001b[0m\u001b[0;34m)\u001b[0m\u001b[0;34m\u001b[0m\u001b[0;34m\u001b[0m\u001b[0m\n\u001b[1;32m      7\u001b[0m \u001b[0mplt\u001b[0m\u001b[0;34m.\u001b[0m\u001b[0mplot\u001b[0m\u001b[0;34m(\u001b[0m\u001b[0;34m*\u001b[0m\u001b[0mzip\u001b[0m\u001b[0;34m(\u001b[0m\u001b[0;34m*\u001b[0m\u001b[0msorted\u001b[0m\u001b[0;34m(\u001b[0m\u001b[0mscore_normal\u001b[0m\u001b[0;34m.\u001b[0m\u001b[0mitems\u001b[0m\u001b[0;34m(\u001b[0m\u001b[0;34m)\u001b[0m\u001b[0;34m)\u001b[0m\u001b[0;34m)\u001b[0m\u001b[0;34m,\u001b[0m \u001b[0mlabel\u001b[0m\u001b[0;34m=\u001b[0m\u001b[0;34m\"No preprocessing\"\u001b[0m\u001b[0;34m)\u001b[0m\u001b[0;34m\u001b[0m\u001b[0;34m\u001b[0m\u001b[0m\n",
      "\u001b[0;31mNameError\u001b[0m: name 'score_gaussian' is not defined"
     ]
    },
    {
     "data": {
      "image/png": "[encoded data removed]",
      "text/plain": [
       "<Figure size 432x288 with 1 Axes>"
      ]
     },
     "metadata": {
      "needs_background": "light"
     },
     "output_type": "display_data"
    }
   ],
   "source": [
    "#plot train_score and test_score\n",
    "plt.title('Different preprocessing techniques for different K values ')\n",
    "plt.xlabel('K values')\n",
    "plt.ylabel('Loss')\n",
    "plt.plot(*zip(*sorted(score_gaussian.items())), label=\"GaussianBlurring\")\n",
    "plt.plot(*zip(*sorted(score_median.items())), label=\"Averaging Kernel\")\n",
    "plt.plot(*zip(*sorted(score_normal.items())), label=\"No preprocessing\")\n",
    "plt.legend()\n",
    "plt.savefig('preprocessing_image.jpg')\n",
    "plt.show()"
   ]
  },
  {
   "cell_type": "code",
   "execution_count": null,
   "metadata": {},
   "outputs": [],
   "source": []
  },
  {
   "cell_type": "code",
   "execution_count": 120,
   "metadata": {},
   "outputs": [
    {
     "data": {
      "text/plain": [
       "0.08502834278092697"
      ]
     },
     "execution_count": 120,
     "metadata": {},
     "output_type": "execute_result"
    }
   ],
   "source": [
    "score_normal"
   ]
  },
  {
   "cell_type": "code",
   "execution_count": null,
   "metadata": {},
   "outputs": [],
   "source": []
  },
  {
   "cell_type": "code",
   "execution_count": 96,
   "metadata": {},
   "outputs": [
    {
     "data": {
      "text/plain": [
       "6"
      ]
     },
     "execution_count": 96,
     "metadata": {},
     "output_type": "execute_result"
    }
   ],
   "source": [
    "x_train[y_train == 8].index[0]"
   ]
  },
  {
   "cell_type": "code",
   "execution_count": 110,
   "metadata": {
    "colab": {},
    "colab_type": "code",
    "id": "S-R36q54w1ce"
   },
   "outputs": [
    {
     "data": {
      "image/png": "[encoded data removed]",
      "text/plain": [
       "<Figure size 1440x504 with 3 Axes>"
      ]
     },
     "metadata": {
      "needs_background": "light"
     },
     "output_type": "display_data"
    }
   ],
   "source": [
    "#find index where value is equal to 8\n",
    "idx_img = x_train[y_train == 8].index[0]\n",
    "\n",
    "fig, (ax1,ax2,ax3) = plt.subplots(nrows=1,ncols=3,sharex=True,sharey=True,figsize=(20,7),squeeze=True)\n",
    "\n",
    "ax1.set_title('No preprocessing')\n",
    "ax1.imshow(x_train.iloc[6].to_numpy().reshape(28,-1));\n",
    "\n",
    "\n",
    "ax2.set_title('Gaussian Blurring')\n",
    "ax2.imshow(train_gaussian.iloc[6].to_numpy().reshape(28,-1));\n",
    "\n",
    "ax3.set_title('Averaging Kernel')\n",
    "ax3.imshow(train_averaging.iloc[6].to_numpy().reshape(28,-1));\n",
    "\n",
    "fig.suptitle('Image with different preprocessing techniques')\n",
    "\n",
    "plt.savefig('print_number_prepr.jpg')\n",
    "plt.show()\n",
    "\n",
    "\n"
   ]
  },
  {
   "cell_type": "markdown",
   "metadata": {
    "colab_type": "text",
    "id": "olJ6nSuNw1wk"
   },
   "source": [
    "PCA\n"
   ]
  },
  {
   "cell_type": "code",
   "execution_count": null,
   "metadata": {
    "colab": {},
    "colab_type": "code",
    "id": "vHauSzRw0T-t"
   },
   "outputs": [],
   "source": [
    "from sklearn.decomposition import PCA\n",
    "from sklearn.preprocessing import MinMaxScaler\n",
    "scaler = MinMaxScaler(feature_range=[0, 1])\n",
    "data_rescaled = scaler.fit_transform(x_train)\n",
    "\n",
    "pca = PCA().fit(data_rescaled)\n",
    "#Plotting the Cumulative Summation of the Explained Variance \n",
    "plt.figure()\n",
    "plt.plot(np.cumsum(pca.explained_variance_ratio_))\n",
    "plt.xlabel('Number of Components')\n",
    "plt.ylabel('Variance (%)') #for each component\n",
    "plt.title('Pulsar Dataset Explained Variance')\n",
    "plt.ylim((0.9,1))\n",
    "plt.show()\n",
    "\n",
    "##--> n = 200/400 components express 95/99 % of the variance => 300 are chosen"
   ]
  },
  {
   "cell_type": "code",
   "execution_count": null,
   "metadata": {
    "colab": {},
    "colab_type": "code",
    "id": "qpsAZs3xw3Si"
   },
   "outputs": [],
   "source": [
    "\n",
    "mnist_pca = PCA(n_components=0.90) #90% of variability is captured by those PC\n",
    "mnist_pca.fit(x_train)\n",
    "components = mnist_pca.transform(x_train)\n",
    "\n",
    "test = mnist_pca.transform(x_test)"
   ]
  },
  {
   "cell_type": "code",
   "execution_count": null,
   "metadata": {
    "colab": {},
    "colab_type": "code",
    "id": "1SyNnG9fw5Gz"
   },
   "outputs": [],
   "source": [
    "knn_pca = KNN()\n",
    "\n",
    "start = time.time()\n",
    "knn_pca.fit(components,y_train,k_max=20)\n",
    "print(time.time()-start)\n",
    "\n",
    "train_score = knn_pca.score(components, y_train, np.arange(1,21))\n",
    "print(\"train score:\", np.array([train_score[k] for k in train_score]).max())\n",
    "\n",
    "test_score = knn_pca.score(test, y_test, np.arange(1,21))\n",
    "print(\"test score:\", np.array([test_score[k] for k in test_score]).max())\n"
   ]
  },
  {
   "cell_type": "code",
   "execution_count": null,
   "metadata": {
    "colab": {},
    "colab_type": "code",
    "id": "_sQPafTFxCsf"
   },
   "outputs": [],
   "source": [
    "projected = mnist_pca.inverse_transform(components)\n",
    "f, (ax1, ax2) = plt.subplots(1, 2, sharey=True)\n",
    "ax1.imshow(projected[0,:].reshape(28,-1))\n",
    "ax1.set_title('PCA transformation')\n",
    "ax2.imshow(x_train.values[0,:].reshape(28,-1))\n",
    "ax2.set_title('Original Image')"
   ]
  }
 ],
 "metadata": {
  "colab": {
   "collapsed_sections": [],
   "machine_shape": "hm",
   "name": "SLT_assignment_part1.ipynb",
   "provenance": []
  },
  "kernelspec": {
   "display_name": "Python 3",
   "language": "python",
   "name": "python3"
  },
  "language_info": {
   "codemirror_mode": {
    "name": "ipython",
    "version": 3
   },
   "file_extension": ".py",
   "mimetype": "text/x-python",
   "name": "python",
   "nbconvert_exporter": "python",
   "pygments_lexer": "ipython3",
   "version": "3.7.6"
  }
 },
 "nbformat": 4,
 "nbformat_minor": 1
}
